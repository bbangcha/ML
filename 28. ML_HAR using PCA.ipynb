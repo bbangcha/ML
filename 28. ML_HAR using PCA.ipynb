{
 "cells": [
  {
   "cell_type": "markdown",
   "metadata": {},
   "source": [
    "### HAR 데이터 불러오기"
   ]
  },
  {
   "cell_type": "code",
   "execution_count": 1,
   "metadata": {},
   "outputs": [],
   "source": [
    "import pandas as pd"
   ]
  },
  {
   "cell_type": "code",
   "execution_count": 2,
   "metadata": {},
   "outputs": [
    {
     "data": {
      "text/html": [
       "<div>\n",
       "<style scoped>\n",
       "    .dataframe tbody tr th:only-of-type {\n",
       "        vertical-align: middle;\n",
       "    }\n",
       "\n",
       "    .dataframe tbody tr th {\n",
       "        vertical-align: top;\n",
       "    }\n",
       "\n",
       "    .dataframe thead th {\n",
       "        text-align: right;\n",
       "    }\n",
       "</style>\n",
       "<table border=\"1\" class=\"dataframe\">\n",
       "  <thead>\n",
       "    <tr style=\"text-align: right;\">\n",
       "      <th></th>\n",
       "      <th>column_index</th>\n",
       "      <th>column_name</th>\n",
       "    </tr>\n",
       "  </thead>\n",
       "  <tbody>\n",
       "    <tr>\n",
       "      <th>0</th>\n",
       "      <td>1</td>\n",
       "      <td>tBodyAcc-mean()-X</td>\n",
       "    </tr>\n",
       "    <tr>\n",
       "      <th>1</th>\n",
       "      <td>2</td>\n",
       "      <td>tBodyAcc-mean()-Y</td>\n",
       "    </tr>\n",
       "    <tr>\n",
       "      <th>2</th>\n",
       "      <td>3</td>\n",
       "      <td>tBodyAcc-mean()-Z</td>\n",
       "    </tr>\n",
       "    <tr>\n",
       "      <th>3</th>\n",
       "      <td>4</td>\n",
       "      <td>tBodyAcc-std()-X</td>\n",
       "    </tr>\n",
       "    <tr>\n",
       "      <th>4</th>\n",
       "      <td>5</td>\n",
       "      <td>tBodyAcc-std()-Y</td>\n",
       "    </tr>\n",
       "  </tbody>\n",
       "</table>\n",
       "</div>"
      ],
      "text/plain": [
       "   column_index        column_name\n",
       "0             1  tBodyAcc-mean()-X\n",
       "1             2  tBodyAcc-mean()-Y\n",
       "2             3  tBodyAcc-mean()-Z\n",
       "3             4   tBodyAcc-std()-X\n",
       "4             5   tBodyAcc-std()-Y"
      ]
     },
     "execution_count": 2,
     "metadata": {},
     "output_type": "execute_result"
    }
   ],
   "source": [
    "url = 'https://raw.githubusercontent.com/PinkWink/ML_tutorial/master/dataset/HAR_dataset/features.txt'\n",
    "\n",
    "featuer_name_df = pd.read_csv(url, sep='\\s+', \n",
    "                               # \\s+ : 한개 이상의 띄어쓰기로 구분되어져 있다\n",
    "                               header = None,\n",
    "                               # header = : 인덱스를 이용하여 header 설정, none 시 없음\n",
    "                               names = ['column_index', 'column_name'])\n",
    "                               # name =[] : 불러올 때 칼럼 이름을 지정한 이름으로 변경\n",
    "featuer_name_df.head()"
   ]
  },
  {
   "cell_type": "code",
   "execution_count": 3,
   "metadata": {},
   "outputs": [
    {
     "data": {
      "text/plain": [
       "['tBodyAcc-mean()-X',\n",
       " 'tBodyAcc-mean()-Y',\n",
       " 'tBodyAcc-mean()-Z',\n",
       " 'tBodyAcc-std()-X',\n",
       " 'tBodyAcc-std()-Y',\n",
       " 'tBodyAcc-std()-Z',\n",
       " 'tBodyAcc-mad()-X',\n",
       " 'tBodyAcc-mad()-Y',\n",
       " 'tBodyAcc-mad()-Z',\n",
       " 'tBodyAcc-max()-X']"
      ]
     },
     "execution_count": 3,
     "metadata": {},
     "output_type": "execute_result"
    }
   ],
   "source": [
    "featuer_name = featuer_name_df.iloc[:, 1].values.tolist()\n",
    "                                           # values : 값들만 추출\n",
    "                                           # tolist() : 리스트로 변환\n",
    "featuer_name[:10]"
   ]
  },
  {
   "cell_type": "code",
   "execution_count": 4,
   "metadata": {},
   "outputs": [
    {
     "data": {
      "text/html": [
       "<div>\n",
       "<style scoped>\n",
       "    .dataframe tbody tr th:only-of-type {\n",
       "        vertical-align: middle;\n",
       "    }\n",
       "\n",
       "    .dataframe tbody tr th {\n",
       "        vertical-align: top;\n",
       "    }\n",
       "\n",
       "    .dataframe thead th {\n",
       "        text-align: right;\n",
       "    }\n",
       "</style>\n",
       "<table border=\"1\" class=\"dataframe\">\n",
       "  <thead>\n",
       "    <tr style=\"text-align: right;\">\n",
       "      <th></th>\n",
       "      <th>tBodyAcc-mean()-X</th>\n",
       "      <th>tBodyAcc-mean()-Y</th>\n",
       "      <th>tBodyAcc-mean()-Z</th>\n",
       "      <th>tBodyAcc-std()-X</th>\n",
       "      <th>tBodyAcc-std()-Y</th>\n",
       "      <th>tBodyAcc-std()-Z</th>\n",
       "      <th>tBodyAcc-mad()-X</th>\n",
       "      <th>tBodyAcc-mad()-Y</th>\n",
       "      <th>tBodyAcc-mad()-Z</th>\n",
       "      <th>tBodyAcc-max()-X</th>\n",
       "      <th>...</th>\n",
       "      <th>fBodyBodyGyroJerkMag-meanFreq()</th>\n",
       "      <th>fBodyBodyGyroJerkMag-skewness()</th>\n",
       "      <th>fBodyBodyGyroJerkMag-kurtosis()</th>\n",
       "      <th>angle(tBodyAccMean,gravity)</th>\n",
       "      <th>angle(tBodyAccJerkMean),gravityMean)</th>\n",
       "      <th>angle(tBodyGyroMean,gravityMean)</th>\n",
       "      <th>angle(tBodyGyroJerkMean,gravityMean)</th>\n",
       "      <th>angle(X,gravityMean)</th>\n",
       "      <th>angle(Y,gravityMean)</th>\n",
       "      <th>angle(Z,gravityMean)</th>\n",
       "    </tr>\n",
       "  </thead>\n",
       "  <tbody>\n",
       "    <tr>\n",
       "      <th>0</th>\n",
       "      <td>0.288585</td>\n",
       "      <td>-0.020294</td>\n",
       "      <td>-0.132905</td>\n",
       "      <td>-0.995279</td>\n",
       "      <td>-0.983111</td>\n",
       "      <td>-0.913526</td>\n",
       "      <td>-0.995112</td>\n",
       "      <td>-0.983185</td>\n",
       "      <td>-0.923527</td>\n",
       "      <td>-0.934724</td>\n",
       "      <td>...</td>\n",
       "      <td>-0.074323</td>\n",
       "      <td>-0.298676</td>\n",
       "      <td>-0.710304</td>\n",
       "      <td>-0.112754</td>\n",
       "      <td>0.030400</td>\n",
       "      <td>-0.464761</td>\n",
       "      <td>-0.018446</td>\n",
       "      <td>-0.841247</td>\n",
       "      <td>0.179941</td>\n",
       "      <td>-0.058627</td>\n",
       "    </tr>\n",
       "    <tr>\n",
       "      <th>1</th>\n",
       "      <td>0.278419</td>\n",
       "      <td>-0.016411</td>\n",
       "      <td>-0.123520</td>\n",
       "      <td>-0.998245</td>\n",
       "      <td>-0.975300</td>\n",
       "      <td>-0.960322</td>\n",
       "      <td>-0.998807</td>\n",
       "      <td>-0.974914</td>\n",
       "      <td>-0.957686</td>\n",
       "      <td>-0.943068</td>\n",
       "      <td>...</td>\n",
       "      <td>0.158075</td>\n",
       "      <td>-0.595051</td>\n",
       "      <td>-0.861499</td>\n",
       "      <td>0.053477</td>\n",
       "      <td>-0.007435</td>\n",
       "      <td>-0.732626</td>\n",
       "      <td>0.703511</td>\n",
       "      <td>-0.844788</td>\n",
       "      <td>0.180289</td>\n",
       "      <td>-0.054317</td>\n",
       "    </tr>\n",
       "    <tr>\n",
       "      <th>2</th>\n",
       "      <td>0.279653</td>\n",
       "      <td>-0.019467</td>\n",
       "      <td>-0.113462</td>\n",
       "      <td>-0.995380</td>\n",
       "      <td>-0.967187</td>\n",
       "      <td>-0.978944</td>\n",
       "      <td>-0.996520</td>\n",
       "      <td>-0.963668</td>\n",
       "      <td>-0.977469</td>\n",
       "      <td>-0.938692</td>\n",
       "      <td>...</td>\n",
       "      <td>0.414503</td>\n",
       "      <td>-0.390748</td>\n",
       "      <td>-0.760104</td>\n",
       "      <td>-0.118559</td>\n",
       "      <td>0.177899</td>\n",
       "      <td>0.100699</td>\n",
       "      <td>0.808529</td>\n",
       "      <td>-0.848933</td>\n",
       "      <td>0.180637</td>\n",
       "      <td>-0.049118</td>\n",
       "    </tr>\n",
       "    <tr>\n",
       "      <th>3</th>\n",
       "      <td>0.279174</td>\n",
       "      <td>-0.026201</td>\n",
       "      <td>-0.123283</td>\n",
       "      <td>-0.996091</td>\n",
       "      <td>-0.983403</td>\n",
       "      <td>-0.990675</td>\n",
       "      <td>-0.997099</td>\n",
       "      <td>-0.982750</td>\n",
       "      <td>-0.989302</td>\n",
       "      <td>-0.938692</td>\n",
       "      <td>...</td>\n",
       "      <td>0.404573</td>\n",
       "      <td>-0.117290</td>\n",
       "      <td>-0.482845</td>\n",
       "      <td>-0.036788</td>\n",
       "      <td>-0.012892</td>\n",
       "      <td>0.640011</td>\n",
       "      <td>-0.485366</td>\n",
       "      <td>-0.848649</td>\n",
       "      <td>0.181935</td>\n",
       "      <td>-0.047663</td>\n",
       "    </tr>\n",
       "    <tr>\n",
       "      <th>4</th>\n",
       "      <td>0.276629</td>\n",
       "      <td>-0.016570</td>\n",
       "      <td>-0.115362</td>\n",
       "      <td>-0.998139</td>\n",
       "      <td>-0.980817</td>\n",
       "      <td>-0.990482</td>\n",
       "      <td>-0.998321</td>\n",
       "      <td>-0.979672</td>\n",
       "      <td>-0.990441</td>\n",
       "      <td>-0.942469</td>\n",
       "      <td>...</td>\n",
       "      <td>0.087753</td>\n",
       "      <td>-0.351471</td>\n",
       "      <td>-0.699205</td>\n",
       "      <td>0.123320</td>\n",
       "      <td>0.122542</td>\n",
       "      <td>0.693578</td>\n",
       "      <td>-0.615971</td>\n",
       "      <td>-0.847865</td>\n",
       "      <td>0.185151</td>\n",
       "      <td>-0.043892</td>\n",
       "    </tr>\n",
       "  </tbody>\n",
       "</table>\n",
       "<p>5 rows × 561 columns</p>\n",
       "</div>"
      ],
      "text/plain": [
       "   tBodyAcc-mean()-X  tBodyAcc-mean()-Y  tBodyAcc-mean()-Z  tBodyAcc-std()-X  \\\n",
       "0           0.288585          -0.020294          -0.132905         -0.995279   \n",
       "1           0.278419          -0.016411          -0.123520         -0.998245   \n",
       "2           0.279653          -0.019467          -0.113462         -0.995380   \n",
       "3           0.279174          -0.026201          -0.123283         -0.996091   \n",
       "4           0.276629          -0.016570          -0.115362         -0.998139   \n",
       "\n",
       "   tBodyAcc-std()-Y  tBodyAcc-std()-Z  tBodyAcc-mad()-X  tBodyAcc-mad()-Y  \\\n",
       "0         -0.983111         -0.913526         -0.995112         -0.983185   \n",
       "1         -0.975300         -0.960322         -0.998807         -0.974914   \n",
       "2         -0.967187         -0.978944         -0.996520         -0.963668   \n",
       "3         -0.983403         -0.990675         -0.997099         -0.982750   \n",
       "4         -0.980817         -0.990482         -0.998321         -0.979672   \n",
       "\n",
       "   tBodyAcc-mad()-Z  tBodyAcc-max()-X  ...  fBodyBodyGyroJerkMag-meanFreq()  \\\n",
       "0         -0.923527         -0.934724  ...                        -0.074323   \n",
       "1         -0.957686         -0.943068  ...                         0.158075   \n",
       "2         -0.977469         -0.938692  ...                         0.414503   \n",
       "3         -0.989302         -0.938692  ...                         0.404573   \n",
       "4         -0.990441         -0.942469  ...                         0.087753   \n",
       "\n",
       "   fBodyBodyGyroJerkMag-skewness()  fBodyBodyGyroJerkMag-kurtosis()  \\\n",
       "0                        -0.298676                        -0.710304   \n",
       "1                        -0.595051                        -0.861499   \n",
       "2                        -0.390748                        -0.760104   \n",
       "3                        -0.117290                        -0.482845   \n",
       "4                        -0.351471                        -0.699205   \n",
       "\n",
       "   angle(tBodyAccMean,gravity)  angle(tBodyAccJerkMean),gravityMean)  \\\n",
       "0                    -0.112754                              0.030400   \n",
       "1                     0.053477                             -0.007435   \n",
       "2                    -0.118559                              0.177899   \n",
       "3                    -0.036788                             -0.012892   \n",
       "4                     0.123320                              0.122542   \n",
       "\n",
       "   angle(tBodyGyroMean,gravityMean)  angle(tBodyGyroJerkMean,gravityMean)  \\\n",
       "0                         -0.464761                             -0.018446   \n",
       "1                         -0.732626                              0.703511   \n",
       "2                          0.100699                              0.808529   \n",
       "3                          0.640011                             -0.485366   \n",
       "4                          0.693578                             -0.615971   \n",
       "\n",
       "   angle(X,gravityMean)  angle(Y,gravityMean)  angle(Z,gravityMean)  \n",
       "0             -0.841247              0.179941             -0.058627  \n",
       "1             -0.844788              0.180289             -0.054317  \n",
       "2             -0.848933              0.180637             -0.049118  \n",
       "3             -0.848649              0.181935             -0.047663  \n",
       "4             -0.847865              0.185151             -0.043892  \n",
       "\n",
       "[5 rows x 561 columns]"
      ]
     },
     "execution_count": 4,
     "metadata": {},
     "output_type": "execute_result"
    }
   ],
   "source": [
    "X_train_url = 'https://raw.githubusercontent.com/PinkWink/ML_tutorial/master/dataset/HAR_dataset/train/X_train.txt'\n",
    "X_test_url = 'https://raw.githubusercontent.com/PinkWink/ML_tutorial/master/dataset/HAR_dataset/test/X_test.txt'\n",
    "\n",
    "X_train = pd.read_csv(X_train_url, sep='\\s+', header = None)\n",
    "X_test = pd.read_csv(X_test_url, sep='\\s+', header = None)\n",
    "\n",
    "X_train.columns = featuer_name\n",
    "X_test.columns = featuer_name\n",
    "X_train.head()"
   ]
  },
  {
   "cell_type": "code",
   "execution_count": 8,
   "metadata": {},
   "outputs": [
    {
     "data": {
      "text/html": [
       "<div>\n",
       "<style scoped>\n",
       "    .dataframe tbody tr th:only-of-type {\n",
       "        vertical-align: middle;\n",
       "    }\n",
       "\n",
       "    .dataframe tbody tr th {\n",
       "        vertical-align: top;\n",
       "    }\n",
       "\n",
       "    .dataframe thead th {\n",
       "        text-align: right;\n",
       "    }\n",
       "</style>\n",
       "<table border=\"1\" class=\"dataframe\">\n",
       "  <thead>\n",
       "    <tr style=\"text-align: right;\">\n",
       "      <th></th>\n",
       "      <th>action</th>\n",
       "    </tr>\n",
       "  </thead>\n",
       "  <tbody>\n",
       "    <tr>\n",
       "      <th>0</th>\n",
       "      <td>5</td>\n",
       "    </tr>\n",
       "    <tr>\n",
       "      <th>1</th>\n",
       "      <td>5</td>\n",
       "    </tr>\n",
       "    <tr>\n",
       "      <th>2</th>\n",
       "      <td>5</td>\n",
       "    </tr>\n",
       "    <tr>\n",
       "      <th>3</th>\n",
       "      <td>5</td>\n",
       "    </tr>\n",
       "    <tr>\n",
       "      <th>4</th>\n",
       "      <td>5</td>\n",
       "    </tr>\n",
       "  </tbody>\n",
       "</table>\n",
       "</div>"
      ],
      "text/plain": [
       "   action\n",
       "0       5\n",
       "1       5\n",
       "2       5\n",
       "3       5\n",
       "4       5"
      ]
     },
     "execution_count": 8,
     "metadata": {},
     "output_type": "execute_result"
    }
   ],
   "source": [
    "y_train_url = 'https://raw.githubusercontent.com/PinkWink/ML_tutorial/master/dataset/HAR_dataset/train/y_train.txt'\n",
    "y_test_url = 'https://raw.githubusercontent.com/PinkWink/ML_tutorial/master/dataset/HAR_dataset/test/y_test.txt'\n",
    "\n",
    "y_train = pd.read_csv(y_train_url, sep='\\s+', header = None, names=['action'])\n",
    "y_test = pd.read_csv(y_test_url, sep='\\s+', header = None, names=['action'])\n",
    "y_train.head()"
   ]
  },
  {
   "cell_type": "code",
   "execution_count": 37,
   "metadata": {},
   "outputs": [
    {
     "data": {
      "text/plain": [
       "((7352, 561), (2947, 561), (7352, 1), (2947, 1))"
      ]
     },
     "execution_count": 37,
     "metadata": {},
     "output_type": "execute_result"
    }
   ],
   "source": [
    "X_train.shape, X_test.shape, y_train.shape, y_test.shape"
   ]
  },
  {
   "cell_type": "markdown",
   "metadata": {},
   "source": [
    "### get_pca_data 함수를 통한 PCA 처리"
   ]
  },
  {
   "cell_type": "code",
   "execution_count": 9,
   "metadata": {},
   "outputs": [],
   "source": [
    "from sklearn.decomposition import PCA\n",
    "\n",
    "def get_pca_data(ss_data, n_components = 2):\n",
    "    pca = PCA(n_components=n_components)\n",
    "    pca.fit(ss_data)\n",
    "\n",
    "    return pca.transform(ss_data), pca"
   ]
  },
  {
   "cell_type": "code",
   "execution_count": 10,
   "metadata": {},
   "outputs": [
    {
     "data": {
      "text/plain": [
       "(array([[-5.5202803 , -0.29027752],\n",
       "        [-5.53534954, -0.08253025],\n",
       "        [-5.47498801,  0.28738705],\n",
       "        ...,\n",
       "        [ 5.85750527, -3.08184349],\n",
       "        [ 5.42109482, -3.42643018],\n",
       "        [ 5.49797027, -2.78992872]]),\n",
       " PCA(n_components=2))"
      ]
     },
     "execution_count": 10,
     "metadata": {},
     "output_type": "execute_result"
    }
   ],
   "source": [
    "HAR_pca, pca = get_pca_data(X_train, n_components=2)\n",
    "HAR_pca, pca "
   ]
  },
  {
   "cell_type": "code",
   "execution_count": 11,
   "metadata": {},
   "outputs": [
    {
     "data": {
      "text/plain": [
       "(7352, 2)"
      ]
     },
     "execution_count": 11,
     "metadata": {},
     "output_type": "execute_result"
    }
   ],
   "source": [
    "HAR_pca.shape"
   ]
  },
  {
   "cell_type": "code",
   "execution_count": 12,
   "metadata": {},
   "outputs": [
    {
     "data": {
      "text/plain": [
       "((561,), (2, 561))"
      ]
     },
     "execution_count": 12,
     "metadata": {},
     "output_type": "execute_result"
    }
   ],
   "source": [
    "pca.mean_.shape, pca.components_.shape"
   ]
  },
  {
   "cell_type": "markdown",
   "metadata": {},
   "source": [
    "### PCA 데이터 프레임"
   ]
  },
  {
   "cell_type": "code",
   "execution_count": 15,
   "metadata": {},
   "outputs": [
    {
     "data": {
      "text/plain": [
       "['pca_0', 'pca_1']"
      ]
     },
     "execution_count": 15,
     "metadata": {},
     "output_type": "execute_result"
    }
   ],
   "source": [
    "cols = ['pca_' + str(n) for n in range(pca.components_.shape[0])]\n",
    "cols"
   ]
  },
  {
   "cell_type": "code",
   "execution_count": 16,
   "metadata": {},
   "outputs": [],
   "source": [
    "def get_pd_from_pca(pca_data, col_num):\n",
    "    cols = ['pca_' + str(n) for n in range(col_num)]\n",
    "    return pd.DataFrame(pca_data, columns=cols)"
   ]
  },
  {
   "cell_type": "code",
   "execution_count": 17,
   "metadata": {},
   "outputs": [
    {
     "data": {
      "text/html": [
       "<div>\n",
       "<style scoped>\n",
       "    .dataframe tbody tr th:only-of-type {\n",
       "        vertical-align: middle;\n",
       "    }\n",
       "\n",
       "    .dataframe tbody tr th {\n",
       "        vertical-align: top;\n",
       "    }\n",
       "\n",
       "    .dataframe thead th {\n",
       "        text-align: right;\n",
       "    }\n",
       "</style>\n",
       "<table border=\"1\" class=\"dataframe\">\n",
       "  <thead>\n",
       "    <tr style=\"text-align: right;\">\n",
       "      <th></th>\n",
       "      <th>pca_0</th>\n",
       "      <th>pca_1</th>\n",
       "      <th>action</th>\n",
       "    </tr>\n",
       "  </thead>\n",
       "  <tbody>\n",
       "    <tr>\n",
       "      <th>0</th>\n",
       "      <td>-5.520280</td>\n",
       "      <td>-0.290278</td>\n",
       "      <td>5</td>\n",
       "    </tr>\n",
       "    <tr>\n",
       "      <th>1</th>\n",
       "      <td>-5.535350</td>\n",
       "      <td>-0.082530</td>\n",
       "      <td>5</td>\n",
       "    </tr>\n",
       "    <tr>\n",
       "      <th>2</th>\n",
       "      <td>-5.474988</td>\n",
       "      <td>0.287387</td>\n",
       "      <td>5</td>\n",
       "    </tr>\n",
       "    <tr>\n",
       "      <th>3</th>\n",
       "      <td>-5.677232</td>\n",
       "      <td>0.897031</td>\n",
       "      <td>5</td>\n",
       "    </tr>\n",
       "    <tr>\n",
       "      <th>4</th>\n",
       "      <td>-5.748749</td>\n",
       "      <td>1.162952</td>\n",
       "      <td>5</td>\n",
       "    </tr>\n",
       "  </tbody>\n",
       "</table>\n",
       "</div>"
      ],
      "text/plain": [
       "      pca_0     pca_1  action\n",
       "0 -5.520280 -0.290278       5\n",
       "1 -5.535350 -0.082530       5\n",
       "2 -5.474988  0.287387       5\n",
       "3 -5.677232  0.897031       5\n",
       "4 -5.748749  1.162952       5"
      ]
     },
     "execution_count": 17,
     "metadata": {},
     "output_type": "execute_result"
    }
   ],
   "source": [
    "HAR_pca, pca = get_pca_data(X_train, n_components=2)\n",
    "HAR_pd_pca = get_pd_from_pca(HAR_pca, pca.components_.shape[0])\n",
    "HAR_pd_pca['action'] = y_train\n",
    "HAR_pd_pca.head()"
   ]
  },
  {
   "cell_type": "markdown",
   "metadata": {},
   "source": [
    "### pairplot로 PCA 확인"
   ]
  },
  {
   "cell_type": "code",
   "execution_count": 19,
   "metadata": {},
   "outputs": [
    {
     "name": "stderr",
     "output_type": "stream",
     "text": [
      "c:\\Users\\user\\miniconda3\\envs\\ds_study\\lib\\site-packages\\seaborn\\axisgrid.py:118: UserWarning: The figure layout has changed to tight\n",
      "  self._figure.tight_layout(*args, **kwargs)\n"
     ]
    },
    {
     "data": {
      "text/plain": [
       "<seaborn.axisgrid.PairGrid at 0x25002011880>"
      ]
     },
     "execution_count": 19,
     "metadata": {},
     "output_type": "execute_result"
    },
    {
     "data": {
      "image/png": "[encoded data removed]",
      "text/plain": [
       "<Figure size 558.875x500 with 1 Axes>"
      ]
     },
     "metadata": {},
     "output_type": "display_data"
    }
   ],
   "source": [
    "import seaborn as sns\n",
    "\n",
    "sns.pairplot(HAR_pd_pca, hue='action', height=5,\n",
    "             x_vars=['pca_0'], y_vars=['pca_1'])"
   ]
  },
  {
   "cell_type": "markdown",
   "metadata": {},
   "source": [
    "### 성능 확인"
   ]
  },
  {
   "cell_type": "code",
   "execution_count": 20,
   "metadata": {},
   "outputs": [
    {
     "name": "stdout",
     "output_type": "stream",
     "text": [
      "variance_ration :  [0.6255444  0.04913023]\n",
      "sum of variance_ration :  0.6746746270487948\n"
     ]
    }
   ],
   "source": [
    "import numpy as np\n",
    "\n",
    "def print_variance_ration(pca):\n",
    "    print('variance_ration : ', pca.explained_variance_ratio_)\n",
    "    print('sum of variance_ration : ', np.sum(pca.explained_variance_ratio_))\n",
    "\n",
    "print_variance_ration(pca)"
   ]
  },
  {
   "cell_type": "markdown",
   "metadata": {},
   "source": [
    "### 컴포넌트 3개 설정(components = 3)"
   ]
  },
  {
   "cell_type": "code",
   "execution_count": 21,
   "metadata": {},
   "outputs": [
    {
     "data": {
      "text/html": [
       "<div>\n",
       "<style scoped>\n",
       "    .dataframe tbody tr th:only-of-type {\n",
       "        vertical-align: middle;\n",
       "    }\n",
       "\n",
       "    .dataframe tbody tr th {\n",
       "        vertical-align: top;\n",
       "    }\n",
       "\n",
       "    .dataframe thead th {\n",
       "        text-align: right;\n",
       "    }\n",
       "</style>\n",
       "<table border=\"1\" class=\"dataframe\">\n",
       "  <thead>\n",
       "    <tr style=\"text-align: right;\">\n",
       "      <th></th>\n",
       "      <th>pca_0</th>\n",
       "      <th>pca_1</th>\n",
       "      <th>pca_2</th>\n",
       "      <th>action</th>\n",
       "    </tr>\n",
       "  </thead>\n",
       "  <tbody>\n",
       "    <tr>\n",
       "      <th>0</th>\n",
       "      <td>-5.520280</td>\n",
       "      <td>-0.290278</td>\n",
       "      <td>-1.529929</td>\n",
       "      <td>5</td>\n",
       "    </tr>\n",
       "    <tr>\n",
       "      <th>1</th>\n",
       "      <td>-5.535350</td>\n",
       "      <td>-0.082530</td>\n",
       "      <td>-1.924804</td>\n",
       "      <td>5</td>\n",
       "    </tr>\n",
       "    <tr>\n",
       "      <th>2</th>\n",
       "      <td>-5.474988</td>\n",
       "      <td>0.287387</td>\n",
       "      <td>-2.144642</td>\n",
       "      <td>5</td>\n",
       "    </tr>\n",
       "    <tr>\n",
       "      <th>3</th>\n",
       "      <td>-5.677232</td>\n",
       "      <td>0.897031</td>\n",
       "      <td>-2.018220</td>\n",
       "      <td>5</td>\n",
       "    </tr>\n",
       "    <tr>\n",
       "      <th>4</th>\n",
       "      <td>-5.748749</td>\n",
       "      <td>1.162952</td>\n",
       "      <td>-2.139533</td>\n",
       "      <td>5</td>\n",
       "    </tr>\n",
       "  </tbody>\n",
       "</table>\n",
       "</div>"
      ],
      "text/plain": [
       "      pca_0     pca_1     pca_2  action\n",
       "0 -5.520280 -0.290278 -1.529929       5\n",
       "1 -5.535350 -0.082530 -1.924804       5\n",
       "2 -5.474988  0.287387 -2.144642       5\n",
       "3 -5.677232  0.897031 -2.018220       5\n",
       "4 -5.748749  1.162952 -2.139533       5"
      ]
     },
     "execution_count": 21,
     "metadata": {},
     "output_type": "execute_result"
    }
   ],
   "source": [
    "HAR_pca, pca = get_pca_data(X_train, n_components=3)\n",
    "HAR_pd_pca = get_pd_from_pca(HAR_pca, pca.components_.shape[0])\n",
    "HAR_pd_pca['action'] = y_train\n",
    "HAR_pd_pca.head()"
   ]
  },
  {
   "cell_type": "code",
   "execution_count": 22,
   "metadata": {},
   "outputs": [
    {
     "name": "stdout",
     "output_type": "stream",
     "text": [
      "variance_ration :  [0.6255444  0.04913023 0.04121467]\n",
      "sum of variance_ration :  0.7158893015785962\n"
     ]
    }
   ],
   "source": [
    "print_variance_ration(pca)"
   ]
  },
  {
   "cell_type": "markdown",
   "metadata": {},
   "source": [
    "### 컴포넌트 10개 설정(components = 10)"
   ]
  },
  {
   "cell_type": "code",
   "execution_count": 23,
   "metadata": {},
   "outputs": [
    {
     "name": "stdout",
     "output_type": "stream",
     "text": [
      "variance_ration :  [0.6255444  0.04913023 0.04121467 0.01874956 0.0169486  0.01272069\n",
      " 0.01176685 0.01068973 0.00969379 0.00858016]\n",
      "sum of variance_ration :  0.8050386819141446\n"
     ]
    }
   ],
   "source": [
    "HAR_pca, pca = get_pca_data(X_train, n_components=10)\n",
    "HAR_pd_pca = get_pd_from_pca(HAR_pca, pca.components_.shape[0])\n",
    "HAR_pd_pca['action'] = y_train\n",
    "\n",
    "print_variance_ration(pca)"
   ]
  },
  {
   "cell_type": "markdown",
   "metadata": {},
   "source": [
    "### PCA 데이터 RandomForest 적용"
   ]
  },
  {
   "cell_type": "markdown",
   "metadata": {},
   "source": [
    "### RandomForest \n",
    "- max_depth : DecisionTree의 가지의 수\n",
    "- n_estimators : 사용한 DecisionTree 수\n",
    "- min_samples_leaf : max_depth가 한계치에 오지 않았지만 분할해서 leaf가 될 수 있는 최소 샘플수를 지정하는 것\n",
    "- min_samples_split : leaf에서 가지로 분할 할 수 있는 샘플수를 지정하는 것"
   ]
  },
  {
   "cell_type": "code",
   "execution_count": 24,
   "metadata": {},
   "outputs": [
    {
     "data": {
      "text/html": [
       "<style>#sk-container-id-1 {color: black;}#sk-container-id-1 pre{padding: 0;}#sk-container-id-1 div.sk-toggleable {background-color: white;}#sk-container-id-1 label.sk-toggleable__label {cursor: pointer;display: block;width: 100%;margin-bottom: 0;padding: 0.3em;box-sizing: border-box;text-align: center;}#sk-container-id-1 label.sk-toggleable__label-arrow:before {content: \"▸\";float: left;margin-right: 0.25em;color: #696969;}#sk-container-id-1 label.sk-toggleable__label-arrow:hover:before {color: black;}#sk-container-id-1 div.sk-estimator:hover label.sk-toggleable__label-arrow:before {color: black;}#sk-container-id-1 div.sk-toggleable__content {max-height: 0;max-width: 0;overflow: hidden;text-align: left;background-color: #f0f8ff;}#sk-container-id-1 div.sk-toggleable__content pre {margin: 0.2em;color: black;border-radius: 0.25em;background-color: #f0f8ff;}#sk-container-id-1 input.sk-toggleable__control:checked~div.sk-toggleable__content {max-height: 200px;max-width: 100%;overflow: auto;}#sk-container-id-1 input.sk-toggleable__control:checked~label.sk-toggleable__label-arrow:before {content: \"▾\";}#sk-container-id-1 div.sk-estimator input.sk-toggleable__control:checked~label.sk-toggleable__label {background-color: #d4ebff;}#sk-container-id-1 div.sk-label input.sk-toggleable__control:checked~label.sk-toggleable__label {background-color: #d4ebff;}#sk-container-id-1 input.sk-hidden--visually {border: 0;clip: rect(1px 1px 1px 1px);clip: rect(1px, 1px, 1px, 1px);height: 1px;margin: -1px;overflow: hidden;padding: 0;position: absolute;width: 1px;}#sk-container-id-1 div.sk-estimator {font-family: monospace;background-color: #f0f8ff;border: 1px dotted black;border-radius: 0.25em;box-sizing: border-box;margin-bottom: 0.5em;}#sk-container-id-1 div.sk-estimator:hover {background-color: #d4ebff;}#sk-container-id-1 div.sk-parallel-item::after {content: \"\";width: 100%;border-bottom: 1px solid gray;flex-grow: 1;}#sk-container-id-1 div.sk-label:hover label.sk-toggleable__label {background-color: #d4ebff;}#sk-container-id-1 div.sk-serial::before {content: \"\";position: absolute;border-left: 1px solid gray;box-sizing: border-box;top: 0;bottom: 0;left: 50%;z-index: 0;}#sk-container-id-1 div.sk-serial {display: flex;flex-direction: column;align-items: center;background-color: white;padding-right: 0.2em;padding-left: 0.2em;position: relative;}#sk-container-id-1 div.sk-item {position: relative;z-index: 1;}#sk-container-id-1 div.sk-parallel {display: flex;align-items: stretch;justify-content: center;background-color: white;position: relative;}#sk-container-id-1 div.sk-item::before, #sk-container-id-1 div.sk-parallel-item::before {content: \"\";position: absolute;border-left: 1px solid gray;box-sizing: border-box;top: 0;bottom: 0;left: 50%;z-index: -1;}#sk-container-id-1 div.sk-parallel-item {display: flex;flex-direction: column;z-index: 1;position: relative;background-color: white;}#sk-container-id-1 div.sk-parallel-item:first-child::after {align-self: flex-end;width: 50%;}#sk-container-id-1 div.sk-parallel-item:last-child::after {align-self: flex-start;width: 50%;}#sk-container-id-1 div.sk-parallel-item:only-child::after {width: 0;}#sk-container-id-1 div.sk-dashed-wrapped {border: 1px dashed gray;margin: 0 0.4em 0.5em 0.4em;box-sizing: border-box;padding-bottom: 0.4em;background-color: white;}#sk-container-id-1 div.sk-label label {font-family: monospace;font-weight: bold;display: inline-block;line-height: 1.2em;}#sk-container-id-1 div.sk-label-container {text-align: center;}#sk-container-id-1 div.sk-container {/* jupyter's `normalize.less` sets `[hidden] { display: none; }` but bootstrap.min.css set `[hidden] { display: none !important; }` so we also need the `!important` here to be able to override the default hidden behavior on the sphinx rendered scikit-learn.org. See: https://github.com/scikit-learn/scikit-learn/issues/21755 */display: inline-block !important;position: relative;}#sk-container-id-1 div.sk-text-repr-fallback {display: none;}</style><div id=\"sk-container-id-1\" class=\"sk-top-container\"><div class=\"sk-text-repr-fallback\"><pre>GridSearchCV(cv=2, estimator=RandomForestClassifier(n_jobs=-1, random_state=13),\n",
       "             n_jobs=-1,\n",
       "             param_grid={&#x27;max_depth&#x27;: [6, 8, 10], &#x27;min_samples_leaf&#x27;: [8, 12],\n",
       "                         &#x27;min_samples_split&#x27;: [8, 12],\n",
       "                         &#x27;n_estimators&#x27;: [50, 100, 200]})</pre><b>In a Jupyter environment, please rerun this cell to show the HTML representation or trust the notebook. <br />On GitHub, the HTML representation is unable to render, please try loading this page with nbviewer.org.</b></div><div class=\"sk-container\" hidden><div class=\"sk-item sk-dashed-wrapped\"><div class=\"sk-label-container\"><div class=\"sk-label sk-toggleable\"><input class=\"sk-toggleable__control sk-hidden--visually\" id=\"sk-estimator-id-1\" type=\"checkbox\" ><label for=\"sk-estimator-id-1\" class=\"sk-toggleable__label sk-toggleable__label-arrow\">GridSearchCV</label><div class=\"sk-toggleable__content\"><pre>GridSearchCV(cv=2, estimator=RandomForestClassifier(n_jobs=-1, random_state=13),\n",
       "             n_jobs=-1,\n",
       "             param_grid={&#x27;max_depth&#x27;: [6, 8, 10], &#x27;min_samples_leaf&#x27;: [8, 12],\n",
       "                         &#x27;min_samples_split&#x27;: [8, 12],\n",
       "                         &#x27;n_estimators&#x27;: [50, 100, 200]})</pre></div></div></div><div class=\"sk-parallel\"><div class=\"sk-parallel-item\"><div class=\"sk-item\"><div class=\"sk-label-container\"><div class=\"sk-label sk-toggleable\"><input class=\"sk-toggleable__control sk-hidden--visually\" id=\"sk-estimator-id-2\" type=\"checkbox\" ><label for=\"sk-estimator-id-2\" class=\"sk-toggleable__label sk-toggleable__label-arrow\">estimator: RandomForestClassifier</label><div class=\"sk-toggleable__content\"><pre>RandomForestClassifier(n_jobs=-1, random_state=13)</pre></div></div></div><div class=\"sk-serial\"><div class=\"sk-item\"><div class=\"sk-estimator sk-toggleable\"><input class=\"sk-toggleable__control sk-hidden--visually\" id=\"sk-estimator-id-3\" type=\"checkbox\" ><label for=\"sk-estimator-id-3\" class=\"sk-toggleable__label sk-toggleable__label-arrow\">RandomForestClassifier</label><div class=\"sk-toggleable__content\"><pre>RandomForestClassifier(n_jobs=-1, random_state=13)</pre></div></div></div></div></div></div></div></div></div></div>"
      ],
      "text/plain": [
       "GridSearchCV(cv=2, estimator=RandomForestClassifier(n_jobs=-1, random_state=13),\n",
       "             n_jobs=-1,\n",
       "             param_grid={'max_depth': [6, 8, 10], 'min_samples_leaf': [8, 12],\n",
       "                         'min_samples_split': [8, 12],\n",
       "                         'n_estimators': [50, 100, 200]})"
      ]
     },
     "execution_count": 24,
     "metadata": {},
     "output_type": "execute_result"
    }
   ],
   "source": [
    "from sklearn.model_selection import GridSearchCV\n",
    "from sklearn.ensemble import RandomForestClassifier\n",
    "\n",
    "params = {\n",
    "    'max_depth' : [6, 8, 10],\n",
    "    'n_estimators' : [50, 100, 200],\n",
    "    'min_samples_leaf' : [8, 12],\n",
    "    'min_samples_split' : [8, 12]\n",
    "}\n",
    "\n",
    "rf_clf = RandomForestClassifier(random_state=13, n_jobs=-1)\n",
    "# n_jobs : 학습 시 사용할 CPU의 코어 개수, -1은 CPU의 코어 전부 사용\n",
    "grid_cv = GridSearchCV(estimator=rf_clf, param_grid=params, cv=2, n_jobs=-1)\n",
    "grid_cv.fit(HAR_pca, y_train.values.reshape(-1,))"
   ]
  },
  {
   "cell_type": "code",
   "execution_count": 25,
   "metadata": {},
   "outputs": [],
   "source": [
    "cv_results_df = pd.DataFrame(grid_cv.cv_results_)"
   ]
  },
  {
   "cell_type": "code",
   "execution_count": 26,
   "metadata": {},
   "outputs": [
    {
     "data": {
      "text/plain": [
       "Index(['mean_fit_time', 'std_fit_time', 'mean_score_time', 'std_score_time',\n",
       "       'param_max_depth', 'param_min_samples_leaf', 'param_min_samples_split',\n",
       "       'param_n_estimators', 'params', 'split0_test_score',\n",
       "       'split1_test_score', 'mean_test_score', 'std_test_score',\n",
       "       'rank_test_score'],\n",
       "      dtype='object')"
      ]
     },
     "execution_count": 26,
     "metadata": {},
     "output_type": "execute_result"
    }
   ],
   "source": [
    "cv_results_df.columns"
   ]
  },
  {
   "cell_type": "code",
   "execution_count": 27,
   "metadata": {},
   "outputs": [
    {
     "data": {
      "text/html": [
       "<div>\n",
       "<style scoped>\n",
       "    .dataframe tbody tr th:only-of-type {\n",
       "        vertical-align: middle;\n",
       "    }\n",
       "\n",
       "    .dataframe tbody tr th {\n",
       "        vertical-align: top;\n",
       "    }\n",
       "\n",
       "    .dataframe thead th {\n",
       "        text-align: right;\n",
       "    }\n",
       "</style>\n",
       "<table border=\"1\" class=\"dataframe\">\n",
       "  <thead>\n",
       "    <tr style=\"text-align: right;\">\n",
       "      <th></th>\n",
       "      <th>rank_test_score</th>\n",
       "      <th>mean_test_score</th>\n",
       "      <th>param_n_estimators</th>\n",
       "      <th>param_max_depth</th>\n",
       "    </tr>\n",
       "  </thead>\n",
       "  <tbody>\n",
       "    <tr>\n",
       "      <th>35</th>\n",
       "      <td>1</td>\n",
       "      <td>0.837867</td>\n",
       "      <td>200</td>\n",
       "      <td>10</td>\n",
       "    </tr>\n",
       "    <tr>\n",
       "      <th>32</th>\n",
       "      <td>1</td>\n",
       "      <td>0.837867</td>\n",
       "      <td>200</td>\n",
       "      <td>10</td>\n",
       "    </tr>\n",
       "    <tr>\n",
       "      <th>14</th>\n",
       "      <td>3</td>\n",
       "      <td>0.837595</td>\n",
       "      <td>200</td>\n",
       "      <td>8</td>\n",
       "    </tr>\n",
       "    <tr>\n",
       "      <th>17</th>\n",
       "      <td>3</td>\n",
       "      <td>0.837595</td>\n",
       "      <td>200</td>\n",
       "      <td>8</td>\n",
       "    </tr>\n",
       "    <tr>\n",
       "      <th>23</th>\n",
       "      <td>5</td>\n",
       "      <td>0.837187</td>\n",
       "      <td>200</td>\n",
       "      <td>8</td>\n",
       "    </tr>\n",
       "  </tbody>\n",
       "</table>\n",
       "</div>"
      ],
      "text/plain": [
       "    rank_test_score  mean_test_score param_n_estimators param_max_depth\n",
       "35                1         0.837867                200              10\n",
       "32                1         0.837867                200              10\n",
       "14                3         0.837595                200               8\n",
       "17                3         0.837595                200               8\n",
       "23                5         0.837187                200               8"
      ]
     },
     "execution_count": 27,
     "metadata": {},
     "output_type": "execute_result"
    }
   ],
   "source": [
    "target_col = ['rank_test_score', 'mean_test_score', 'param_n_estimators', 'param_max_depth']\n",
    "cv_results_df[target_col].sort_values('rank_test_score', ascending=True).head()"
   ]
  },
  {
   "cell_type": "code",
   "execution_count": 28,
   "metadata": {},
   "outputs": [
    {
     "data": {
      "text/plain": [
       "{'max_depth': 10,\n",
       " 'min_samples_leaf': 12,\n",
       " 'min_samples_split': 8,\n",
       " 'n_estimators': 200}"
      ]
     },
     "execution_count": 28,
     "metadata": {},
     "output_type": "execute_result"
    }
   ],
   "source": [
    "grid_cv.best_params_"
   ]
  },
  {
   "cell_type": "code",
   "execution_count": 29,
   "metadata": {},
   "outputs": [
    {
     "data": {
      "text/plain": [
       "0.8378672470076169"
      ]
     },
     "execution_count": 29,
     "metadata": {},
     "output_type": "execute_result"
    }
   ],
   "source": [
    "grid_cv.best_score_"
   ]
  },
  {
   "cell_type": "code",
   "execution_count": 30,
   "metadata": {},
   "outputs": [
    {
     "data": {
      "text/html": [
       "<style>#sk-container-id-2 {color: black;}#sk-container-id-2 pre{padding: 0;}#sk-container-id-2 div.sk-toggleable {background-color: white;}#sk-container-id-2 label.sk-toggleable__label {cursor: pointer;display: block;width: 100%;margin-bottom: 0;padding: 0.3em;box-sizing: border-box;text-align: center;}#sk-container-id-2 label.sk-toggleable__label-arrow:before {content: \"▸\";float: left;margin-right: 0.25em;color: #696969;}#sk-container-id-2 label.sk-toggleable__label-arrow:hover:before {color: black;}#sk-container-id-2 div.sk-estimator:hover label.sk-toggleable__label-arrow:before {color: black;}#sk-container-id-2 div.sk-toggleable__content {max-height: 0;max-width: 0;overflow: hidden;text-align: left;background-color: #f0f8ff;}#sk-container-id-2 div.sk-toggleable__content pre {margin: 0.2em;color: black;border-radius: 0.25em;background-color: #f0f8ff;}#sk-container-id-2 input.sk-toggleable__control:checked~div.sk-toggleable__content {max-height: 200px;max-width: 100%;overflow: auto;}#sk-container-id-2 input.sk-toggleable__control:checked~label.sk-toggleable__label-arrow:before {content: \"▾\";}#sk-container-id-2 div.sk-estimator input.sk-toggleable__control:checked~label.sk-toggleable__label {background-color: #d4ebff;}#sk-container-id-2 div.sk-label input.sk-toggleable__control:checked~label.sk-toggleable__label {background-color: #d4ebff;}#sk-container-id-2 input.sk-hidden--visually {border: 0;clip: rect(1px 1px 1px 1px);clip: rect(1px, 1px, 1px, 1px);height: 1px;margin: -1px;overflow: hidden;padding: 0;position: absolute;width: 1px;}#sk-container-id-2 div.sk-estimator {font-family: monospace;background-color: #f0f8ff;border: 1px dotted black;border-radius: 0.25em;box-sizing: border-box;margin-bottom: 0.5em;}#sk-container-id-2 div.sk-estimator:hover {background-color: #d4ebff;}#sk-container-id-2 div.sk-parallel-item::after {content: \"\";width: 100%;border-bottom: 1px solid gray;flex-grow: 1;}#sk-container-id-2 div.sk-label:hover label.sk-toggleable__label {background-color: #d4ebff;}#sk-container-id-2 div.sk-serial::before {content: \"\";position: absolute;border-left: 1px solid gray;box-sizing: border-box;top: 0;bottom: 0;left: 50%;z-index: 0;}#sk-container-id-2 div.sk-serial {display: flex;flex-direction: column;align-items: center;background-color: white;padding-right: 0.2em;padding-left: 0.2em;position: relative;}#sk-container-id-2 div.sk-item {position: relative;z-index: 1;}#sk-container-id-2 div.sk-parallel {display: flex;align-items: stretch;justify-content: center;background-color: white;position: relative;}#sk-container-id-2 div.sk-item::before, #sk-container-id-2 div.sk-parallel-item::before {content: \"\";position: absolute;border-left: 1px solid gray;box-sizing: border-box;top: 0;bottom: 0;left: 50%;z-index: -1;}#sk-container-id-2 div.sk-parallel-item {display: flex;flex-direction: column;z-index: 1;position: relative;background-color: white;}#sk-container-id-2 div.sk-parallel-item:first-child::after {align-self: flex-end;width: 50%;}#sk-container-id-2 div.sk-parallel-item:last-child::after {align-self: flex-start;width: 50%;}#sk-container-id-2 div.sk-parallel-item:only-child::after {width: 0;}#sk-container-id-2 div.sk-dashed-wrapped {border: 1px dashed gray;margin: 0 0.4em 0.5em 0.4em;box-sizing: border-box;padding-bottom: 0.4em;background-color: white;}#sk-container-id-2 div.sk-label label {font-family: monospace;font-weight: bold;display: inline-block;line-height: 1.2em;}#sk-container-id-2 div.sk-label-container {text-align: center;}#sk-container-id-2 div.sk-container {/* jupyter's `normalize.less` sets `[hidden] { display: none; }` but bootstrap.min.css set `[hidden] { display: none !important; }` so we also need the `!important` here to be able to override the default hidden behavior on the sphinx rendered scikit-learn.org. See: https://github.com/scikit-learn/scikit-learn/issues/21755 */display: inline-block !important;position: relative;}#sk-container-id-2 div.sk-text-repr-fallback {display: none;}</style><div id=\"sk-container-id-2\" class=\"sk-top-container\"><div class=\"sk-text-repr-fallback\"><pre>RandomForestClassifier(max_depth=10, min_samples_leaf=12, min_samples_split=8,\n",
       "                       n_estimators=200, n_jobs=-1, random_state=13)</pre><b>In a Jupyter environment, please rerun this cell to show the HTML representation or trust the notebook. <br />On GitHub, the HTML representation is unable to render, please try loading this page with nbviewer.org.</b></div><div class=\"sk-container\" hidden><div class=\"sk-item\"><div class=\"sk-estimator sk-toggleable\"><input class=\"sk-toggleable__control sk-hidden--visually\" id=\"sk-estimator-id-4\" type=\"checkbox\" checked><label for=\"sk-estimator-id-4\" class=\"sk-toggleable__label sk-toggleable__label-arrow\">RandomForestClassifier</label><div class=\"sk-toggleable__content\"><pre>RandomForestClassifier(max_depth=10, min_samples_leaf=12, min_samples_split=8,\n",
       "                       n_estimators=200, n_jobs=-1, random_state=13)</pre></div></div></div></div></div>"
      ],
      "text/plain": [
       "RandomForestClassifier(max_depth=10, min_samples_leaf=12, min_samples_split=8,\n",
       "                       n_estimators=200, n_jobs=-1, random_state=13)"
      ]
     },
     "execution_count": 30,
     "metadata": {},
     "output_type": "execute_result"
    }
   ],
   "source": [
    "grid_cv.best_estimator_"
   ]
  },
  {
   "cell_type": "markdown",
   "metadata": {},
   "source": [
    "### 테스트 데이터 적용"
   ]
  },
  {
   "cell_type": "code",
   "execution_count": 33,
   "metadata": {},
   "outputs": [
    {
     "data": {
      "text/plain": [
       "0.8547675602307431"
      ]
     },
     "execution_count": 33,
     "metadata": {},
     "output_type": "execute_result"
    }
   ],
   "source": [
    "from sklearn.metrics import accuracy_score\n",
    "\n",
    "rf_clf_best = grid_cv.best_estimator_\n",
    "rf_clf_best.fit(HAR_pca, y_train.values.reshape(-1, ))\n",
    "\n",
    "pred1 = rf_clf_best.predict(pca.transform(X_test))\n",
    "\n",
    "accuracy_score(y_test, pred1)"
   ]
  },
  {
   "cell_type": "markdown",
   "metadata": {},
   "source": [
    "### XGBoost 적용"
   ]
  },
  {
   "cell_type": "markdown",
   "metadata": {},
   "source": [
    "### XGBoost 주요 파라미터\n",
    "- nthread : CPU의 실행 스레드 개수를 조정, 디폴트는 CPU 전체 스레드 사용\n",
    "- eta : GBM 학습률\n",
    "- num_boost_rounds : n_estimators와 같은 기능\n",
    "- max_depth\n",
    "- y_train, y_test 대신 y_train - 1, y_test -1 지정 :  레이블이 0부터 시작해야 하는데 1부터 시작해서 생기는 문제해결을 위한 설정"
   ]
  },
  {
   "cell_type": "markdown",
   "metadata": {},
   "source": [
    "### 조기 종료 조건과 검증 데이터 지정\n",
    "- early_stopping_rounds = ? : 같은 성능으로 ?번 이상 반복해서 비슷한 성능이 나오면 종료\n",
    "- eval_set : 검증set"
   ]
  },
  {
   "cell_type": "code",
   "execution_count": 35,
   "metadata": {},
   "outputs": [
    {
     "name": "stdout",
     "output_type": "stream",
     "text": [
      "[0]\tvalidation_0-mlogloss:1.61495\n",
      "[1]\tvalidation_0-mlogloss:1.47646\n",
      "[2]\tvalidation_0-mlogloss:1.35908\n",
      "[3]\tvalidation_0-mlogloss:1.26398\n",
      "[4]\tvalidation_0-mlogloss:1.18100\n",
      "[5]\tvalidation_0-mlogloss:1.11065\n",
      "[6]\tvalidation_0-mlogloss:1.04689\n",
      "[7]\tvalidation_0-mlogloss:0.98990\n"
     ]
    },
    {
     "name": "stdout",
     "output_type": "stream",
     "text": [
      "[8]\tvalidation_0-mlogloss:0.94015\n",
      "[9]\tvalidation_0-mlogloss:0.89308\n",
      "[10]\tvalidation_0-mlogloss:0.85253\n",
      "[11]\tvalidation_0-mlogloss:0.81650\n",
      "[12]\tvalidation_0-mlogloss:0.78382\n",
      "[13]\tvalidation_0-mlogloss:0.75244\n",
      "[14]\tvalidation_0-mlogloss:0.72599\n",
      "[15]\tvalidation_0-mlogloss:0.70082\n",
      "[16]\tvalidation_0-mlogloss:0.67841\n",
      "[17]\tvalidation_0-mlogloss:0.65868\n",
      "[18]\tvalidation_0-mlogloss:0.64060\n",
      "[19]\tvalidation_0-mlogloss:0.62223\n",
      "[20]\tvalidation_0-mlogloss:0.60633\n",
      "[21]\tvalidation_0-mlogloss:0.59106\n",
      "[22]\tvalidation_0-mlogloss:0.57725\n",
      "[23]\tvalidation_0-mlogloss:0.56392\n",
      "[24]\tvalidation_0-mlogloss:0.55056\n",
      "[25]\tvalidation_0-mlogloss:0.53982\n",
      "[26]\tvalidation_0-mlogloss:0.52910\n",
      "[27]\tvalidation_0-mlogloss:0.51932\n",
      "[28]\tvalidation_0-mlogloss:0.50912\n",
      "[29]\tvalidation_0-mlogloss:0.50098\n",
      "[30]\tvalidation_0-mlogloss:0.49244\n",
      "[31]\tvalidation_0-mlogloss:0.48427\n",
      "[32]\tvalidation_0-mlogloss:0.47658\n",
      "[33]\tvalidation_0-mlogloss:0.47017\n",
      "[34]\tvalidation_0-mlogloss:0.46401\n"
     ]
    },
    {
     "name": "stderr",
     "output_type": "stream",
     "text": [
      "c:\\Users\\user\\miniconda3\\envs\\ds_study\\lib\\site-packages\\xgboost\\sklearn.py:889: UserWarning: `early_stopping_rounds` in `fit` method is deprecated for better compatibility with scikit-learn, use `early_stopping_rounds` in constructor or`set_params` instead.\n",
      "  warnings.warn(\n"
     ]
    },
    {
     "name": "stdout",
     "output_type": "stream",
     "text": [
      "[35]\tvalidation_0-mlogloss:0.45721\n",
      "[36]\tvalidation_0-mlogloss:0.45185\n",
      "[37]\tvalidation_0-mlogloss:0.44649\n",
      "[38]\tvalidation_0-mlogloss:0.44171\n",
      "[39]\tvalidation_0-mlogloss:0.43718\n",
      "[40]\tvalidation_0-mlogloss:0.43199\n",
      "[41]\tvalidation_0-mlogloss:0.42793\n",
      "[42]\tvalidation_0-mlogloss:0.42430\n",
      "[43]\tvalidation_0-mlogloss:0.42028\n",
      "[44]\tvalidation_0-mlogloss:0.41578\n",
      "[45]\tvalidation_0-mlogloss:0.41214\n",
      "[46]\tvalidation_0-mlogloss:0.40836\n",
      "[47]\tvalidation_0-mlogloss:0.40527\n",
      "[48]\tvalidation_0-mlogloss:0.40150\n",
      "[49]\tvalidation_0-mlogloss:0.39791\n",
      "[50]\tvalidation_0-mlogloss:0.39505\n",
      "[51]\tvalidation_0-mlogloss:0.39241\n",
      "[52]\tvalidation_0-mlogloss:0.39060\n",
      "[53]\tvalidation_0-mlogloss:0.38775\n",
      "[54]\tvalidation_0-mlogloss:0.38532\n",
      "[55]\tvalidation_0-mlogloss:0.38339\n",
      "[56]\tvalidation_0-mlogloss:0.38096\n",
      "[57]\tvalidation_0-mlogloss:0.37884\n",
      "[58]\tvalidation_0-mlogloss:0.37726\n",
      "[59]\tvalidation_0-mlogloss:0.37515\n",
      "[60]\tvalidation_0-mlogloss:0.37324\n",
      "[61]\tvalidation_0-mlogloss:0.37116\n",
      "[62]\tvalidation_0-mlogloss:0.36915\n",
      "[63]\tvalidation_0-mlogloss:0.36708\n",
      "[64]\tvalidation_0-mlogloss:0.36555\n",
      "[65]\tvalidation_0-mlogloss:0.36399\n",
      "[66]\tvalidation_0-mlogloss:0.36207\n",
      "[67]\tvalidation_0-mlogloss:0.36031\n",
      "[68]\tvalidation_0-mlogloss:0.35843\n",
      "[69]\tvalidation_0-mlogloss:0.35647\n",
      "[70]\tvalidation_0-mlogloss:0.35486\n",
      "[71]\tvalidation_0-mlogloss:0.35407\n",
      "[72]\tvalidation_0-mlogloss:0.35279\n",
      "[73]\tvalidation_0-mlogloss:0.35199\n",
      "[74]\tvalidation_0-mlogloss:0.35049\n",
      "[75]\tvalidation_0-mlogloss:0.34939\n",
      "[76]\tvalidation_0-mlogloss:0.34802\n",
      "[77]\tvalidation_0-mlogloss:0.34693\n",
      "[78]\tvalidation_0-mlogloss:0.34597\n",
      "[79]\tvalidation_0-mlogloss:0.34509\n",
      "[80]\tvalidation_0-mlogloss:0.34447\n",
      "[81]\tvalidation_0-mlogloss:0.34330\n",
      "[82]\tvalidation_0-mlogloss:0.34250\n",
      "[83]\tvalidation_0-mlogloss:0.34197\n",
      "[84]\tvalidation_0-mlogloss:0.34047\n",
      "[85]\tvalidation_0-mlogloss:0.33963\n",
      "[86]\tvalidation_0-mlogloss:0.33872\n",
      "[87]\tvalidation_0-mlogloss:0.33837\n",
      "[88]\tvalidation_0-mlogloss:0.33863\n",
      "[89]\tvalidation_0-mlogloss:0.33778\n",
      "[90]\tvalidation_0-mlogloss:0.33692\n",
      "[91]\tvalidation_0-mlogloss:0.33600\n",
      "[92]\tvalidation_0-mlogloss:0.33611\n",
      "[93]\tvalidation_0-mlogloss:0.33528\n",
      "[94]\tvalidation_0-mlogloss:0.33464\n",
      "[95]\tvalidation_0-mlogloss:0.33428\n",
      "[96]\tvalidation_0-mlogloss:0.33363\n",
      "[97]\tvalidation_0-mlogloss:0.33296\n",
      "[98]\tvalidation_0-mlogloss:0.33311\n",
      "[99]\tvalidation_0-mlogloss:0.33304\n",
      "[100]\tvalidation_0-mlogloss:0.33256\n",
      "[101]\tvalidation_0-mlogloss:0.33187\n",
      "[102]\tvalidation_0-mlogloss:0.33121\n",
      "[103]\tvalidation_0-mlogloss:0.33069\n",
      "[104]\tvalidation_0-mlogloss:0.33031\n",
      "[105]\tvalidation_0-mlogloss:0.33041\n",
      "[106]\tvalidation_0-mlogloss:0.33021\n",
      "[107]\tvalidation_0-mlogloss:0.33013\n",
      "[108]\tvalidation_0-mlogloss:0.32975\n",
      "[109]\tvalidation_0-mlogloss:0.32942\n",
      "[110]\tvalidation_0-mlogloss:0.32905\n",
      "[111]\tvalidation_0-mlogloss:0.32872\n",
      "[112]\tvalidation_0-mlogloss:0.32900\n",
      "[113]\tvalidation_0-mlogloss:0.32889\n",
      "[114]\tvalidation_0-mlogloss:0.32881\n",
      "[115]\tvalidation_0-mlogloss:0.32847\n",
      "[116]\tvalidation_0-mlogloss:0.32831\n",
      "[117]\tvalidation_0-mlogloss:0.32798\n",
      "[118]\tvalidation_0-mlogloss:0.32792\n",
      "[119]\tvalidation_0-mlogloss:0.32763\n",
      "[120]\tvalidation_0-mlogloss:0.32737\n",
      "[121]\tvalidation_0-mlogloss:0.32685\n",
      "[122]\tvalidation_0-mlogloss:0.32656\n",
      "[123]\tvalidation_0-mlogloss:0.32671\n",
      "[124]\tvalidation_0-mlogloss:0.32720\n",
      "[125]\tvalidation_0-mlogloss:0.32720\n",
      "[126]\tvalidation_0-mlogloss:0.32651\n",
      "[127]\tvalidation_0-mlogloss:0.32666\n",
      "[128]\tvalidation_0-mlogloss:0.32660\n",
      "[129]\tvalidation_0-mlogloss:0.32649\n",
      "[130]\tvalidation_0-mlogloss:0.32688\n",
      "[131]\tvalidation_0-mlogloss:0.32612\n",
      "[132]\tvalidation_0-mlogloss:0.32599\n",
      "[133]\tvalidation_0-mlogloss:0.32566\n",
      "[134]\tvalidation_0-mlogloss:0.32558\n",
      "[135]\tvalidation_0-mlogloss:0.32534\n",
      "[136]\tvalidation_0-mlogloss:0.32553\n",
      "[137]\tvalidation_0-mlogloss:0.32541\n",
      "[138]\tvalidation_0-mlogloss:0.32596\n",
      "[139]\tvalidation_0-mlogloss:0.32605\n",
      "[140]\tvalidation_0-mlogloss:0.32580\n",
      "[141]\tvalidation_0-mlogloss:0.32489\n",
      "[142]\tvalidation_0-mlogloss:0.32521\n",
      "[143]\tvalidation_0-mlogloss:0.32531\n",
      "[144]\tvalidation_0-mlogloss:0.32548\n",
      "[145]\tvalidation_0-mlogloss:0.32502\n",
      "[146]\tvalidation_0-mlogloss:0.32511\n",
      "[147]\tvalidation_0-mlogloss:0.32523\n",
      "[148]\tvalidation_0-mlogloss:0.32469\n",
      "[149]\tvalidation_0-mlogloss:0.32475\n",
      "[150]\tvalidation_0-mlogloss:0.32503\n",
      "[151]\tvalidation_0-mlogloss:0.32570\n",
      "[152]\tvalidation_0-mlogloss:0.32598\n",
      "[153]\tvalidation_0-mlogloss:0.32611\n",
      "[154]\tvalidation_0-mlogloss:0.32539\n",
      "[155]\tvalidation_0-mlogloss:0.32595\n",
      "[156]\tvalidation_0-mlogloss:0.32611\n",
      "[157]\tvalidation_0-mlogloss:0.32604\n",
      "Fit time : 0.891089677810669\n"
     ]
    }
   ],
   "source": [
    "import time\n",
    "from xgboost import XGBClassifier\n",
    "\n",
    "evals = [(pca.transform(X_test), y_test-1)]\n",
    "# 원래는 종료조건을 걸기 위해서는 validation data를 넣어줘야되지만 따로 만들지 않고 test data로 대체하여 사용\n",
    "\n",
    "start_time = time.time()\n",
    "xgb = XGBClassifier(n_estimators = 400, learning_rate = 0.1, max_depth = 3)\n",
    "xgb.fit(HAR_pca, y_train.values.reshape(-1,)-1, early_stopping_rounds = 10, eval_set = evals)\n",
    "# sklean 모듈은 판다스 자료들을 잘 받아와 연동도 잘되지만 xgboost 모듈은 numpy array형태로 넣어줘야 하므로 .values로 변환해줘야 된다\n",
    "\n",
    "print('Fit time :', time.time() - start_time)"
   ]
  },
  {
   "cell_type": "code",
   "execution_count": 36,
   "metadata": {},
   "outputs": [
    {
     "data": {
      "text/plain": [
       "0.8632507634882932"
      ]
     },
     "execution_count": 36,
     "metadata": {},
     "output_type": "execute_result"
    }
   ],
   "source": [
    "accuracy_score(y_test-1, xgb.predict(pca.transform(X_test)))"
   ]
  },
  {
   "cell_type": "code",
   "execution_count": null,
   "metadata": {},
   "outputs": [],
   "source": []
  }
 ],
 "metadata": {
  "kernelspec": {
   "display_name": "ds_study",
   "language": "python",
   "name": "python3"
  },
  "language_info": {
   "codemirror_mode": {
    "name": "ipython",
    "version": 3
   },
   "file_extension": ".py",
   "mimetype": "text/x-python",
   "name": "python",
   "nbconvert_exporter": "python",
   "pygments_lexer": "ipython3",
   "version": "3.8.18"
  }
 },
 "nbformat": 4,
 "nbformat_minor": 2
}
