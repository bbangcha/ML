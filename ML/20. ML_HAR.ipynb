{
 "cells": [
  {
   "cell_type": "code",
   "execution_count": 65,
   "metadata": {},
   "outputs": [],
   "source": [
    "import pandas as pd\n",
    "import matplotlib.pyplot as plt"
   ]
  },
  {
   "cell_type": "code",
   "execution_count": 66,
   "metadata": {},
   "outputs": [
    {
     "data": {
      "text/html": [
       "<div>\n",
       "<style scoped>\n",
       "    .dataframe tbody tr th:only-of-type {\n",
       "        vertical-align: middle;\n",
       "    }\n",
       "\n",
       "    .dataframe tbody tr th {\n",
       "        vertical-align: top;\n",
       "    }\n",
       "\n",
       "    .dataframe thead th {\n",
       "        text-align: right;\n",
       "    }\n",
       "</style>\n",
       "<table border=\"1\" class=\"dataframe\">\n",
       "  <thead>\n",
       "    <tr style=\"text-align: right;\">\n",
       "      <th></th>\n",
       "      <th>column_index</th>\n",
       "      <th>column_name</th>\n",
       "    </tr>\n",
       "  </thead>\n",
       "  <tbody>\n",
       "    <tr>\n",
       "      <th>0</th>\n",
       "      <td>1</td>\n",
       "      <td>tBodyAcc-mean()-X</td>\n",
       "    </tr>\n",
       "    <tr>\n",
       "      <th>1</th>\n",
       "      <td>2</td>\n",
       "      <td>tBodyAcc-mean()-Y</td>\n",
       "    </tr>\n",
       "    <tr>\n",
       "      <th>2</th>\n",
       "      <td>3</td>\n",
       "      <td>tBodyAcc-mean()-Z</td>\n",
       "    </tr>\n",
       "    <tr>\n",
       "      <th>3</th>\n",
       "      <td>4</td>\n",
       "      <td>tBodyAcc-std()-X</td>\n",
       "    </tr>\n",
       "    <tr>\n",
       "      <th>4</th>\n",
       "      <td>5</td>\n",
       "      <td>tBodyAcc-std()-Y</td>\n",
       "    </tr>\n",
       "  </tbody>\n",
       "</table>\n",
       "</div>"
      ],
      "text/plain": [
       "   column_index        column_name\n",
       "0             1  tBodyAcc-mean()-X\n",
       "1             2  tBodyAcc-mean()-Y\n",
       "2             3  tBodyAcc-mean()-Z\n",
       "3             4   tBodyAcc-std()-X\n",
       "4             5   tBodyAcc-std()-Y"
      ]
     },
     "execution_count": 66,
     "metadata": {},
     "output_type": "execute_result"
    }
   ],
   "source": [
    "url = 'https://raw.githubusercontent.com/PinkWink/ML_tutorial/master/dataset/HAR_dataset/features.txt'\n",
    "\n",
    "featuer_name_df = pd.read_csv(url, sep='\\s+', \n",
    "                               # \\s+ : 한개 이상의 띄어쓰기로 구분되어져 있다\n",
    "                               header = None,\n",
    "                               # header = : 인덱스를 이용하여 header 설정, none 시 없음\n",
    "                               names = ['column_index', 'column_name'])\n",
    "                               # name =[] : 불러올 때 칼럼 이름을 지정한 이름으로 변경\n",
    "featuer_name_df.head()"
   ]
  },
  {
   "cell_type": "code",
   "execution_count": 67,
   "metadata": {},
   "outputs": [
    {
     "data": {
      "text/plain": [
       "561"
      ]
     },
     "execution_count": 67,
     "metadata": {},
     "output_type": "execute_result"
    }
   ],
   "source": [
    "len(featuer_name_df)"
   ]
  },
  {
   "cell_type": "code",
   "execution_count": 68,
   "metadata": {},
   "outputs": [
    {
     "data": {
      "text/plain": [
       "['tBodyAcc-mean()-X',\n",
       " 'tBodyAcc-mean()-Y',\n",
       " 'tBodyAcc-mean()-Z',\n",
       " 'tBodyAcc-std()-X',\n",
       " 'tBodyAcc-std()-Y',\n",
       " 'tBodyAcc-std()-Z',\n",
       " 'tBodyAcc-mad()-X',\n",
       " 'tBodyAcc-mad()-Y',\n",
       " 'tBodyAcc-mad()-Z',\n",
       " 'tBodyAcc-max()-X']"
      ]
     },
     "execution_count": 68,
     "metadata": {},
     "output_type": "execute_result"
    }
   ],
   "source": [
    "featuer_name = featuer_name_df.iloc[:, 1].values.tolist()\n",
    "                                           # values : 값들만 추출\n",
    "                                           # tolist() : 리스트로 변환\n",
    "featuer_name[:10]"
   ]
  },
  {
   "cell_type": "code",
   "execution_count": 69,
   "metadata": {},
   "outputs": [],
   "source": [
    "X_train_url = 'https://raw.githubusercontent.com/PinkWink/ML_tutorial/master/dataset/HAR_dataset/train/X_train.txt'\n",
    "X_test_url = 'https://raw.githubusercontent.com/PinkWink/ML_tutorial/master/dataset/HAR_dataset/test/X_test.txt'\n",
    "\n",
    "X_train = pd.read_csv(X_train_url, sep='\\s+', header = None)\n",
    "X_test = pd.read_csv(X_test_url, sep='\\s+', header = None)"
   ]
  },
  {
   "cell_type": "code",
   "execution_count": 70,
   "metadata": {},
   "outputs": [
    {
     "data": {
      "text/html": [
       "<div>\n",
       "<style scoped>\n",
       "    .dataframe tbody tr th:only-of-type {\n",
       "        vertical-align: middle;\n",
       "    }\n",
       "\n",
       "    .dataframe tbody tr th {\n",
       "        vertical-align: top;\n",
       "    }\n",
       "\n",
       "    .dataframe thead th {\n",
       "        text-align: right;\n",
       "    }\n",
       "</style>\n",
       "<table border=\"1\" class=\"dataframe\">\n",
       "  <thead>\n",
       "    <tr style=\"text-align: right;\">\n",
       "      <th></th>\n",
       "      <th>tBodyAcc-mean()-X</th>\n",
       "      <th>tBodyAcc-mean()-Y</th>\n",
       "      <th>tBodyAcc-mean()-Z</th>\n",
       "      <th>tBodyAcc-std()-X</th>\n",
       "      <th>tBodyAcc-std()-Y</th>\n",
       "      <th>tBodyAcc-std()-Z</th>\n",
       "      <th>tBodyAcc-mad()-X</th>\n",
       "      <th>tBodyAcc-mad()-Y</th>\n",
       "      <th>tBodyAcc-mad()-Z</th>\n",
       "      <th>tBodyAcc-max()-X</th>\n",
       "      <th>...</th>\n",
       "      <th>fBodyBodyGyroJerkMag-meanFreq()</th>\n",
       "      <th>fBodyBodyGyroJerkMag-skewness()</th>\n",
       "      <th>fBodyBodyGyroJerkMag-kurtosis()</th>\n",
       "      <th>angle(tBodyAccMean,gravity)</th>\n",
       "      <th>angle(tBodyAccJerkMean),gravityMean)</th>\n",
       "      <th>angle(tBodyGyroMean,gravityMean)</th>\n",
       "      <th>angle(tBodyGyroJerkMean,gravityMean)</th>\n",
       "      <th>angle(X,gravityMean)</th>\n",
       "      <th>angle(Y,gravityMean)</th>\n",
       "      <th>angle(Z,gravityMean)</th>\n",
       "    </tr>\n",
       "  </thead>\n",
       "  <tbody>\n",
       "    <tr>\n",
       "      <th>0</th>\n",
       "      <td>0.288585</td>\n",
       "      <td>-0.020294</td>\n",
       "      <td>-0.132905</td>\n",
       "      <td>-0.995279</td>\n",
       "      <td>-0.983111</td>\n",
       "      <td>-0.913526</td>\n",
       "      <td>-0.995112</td>\n",
       "      <td>-0.983185</td>\n",
       "      <td>-0.923527</td>\n",
       "      <td>-0.934724</td>\n",
       "      <td>...</td>\n",
       "      <td>-0.074323</td>\n",
       "      <td>-0.298676</td>\n",
       "      <td>-0.710304</td>\n",
       "      <td>-0.112754</td>\n",
       "      <td>0.030400</td>\n",
       "      <td>-0.464761</td>\n",
       "      <td>-0.018446</td>\n",
       "      <td>-0.841247</td>\n",
       "      <td>0.179941</td>\n",
       "      <td>-0.058627</td>\n",
       "    </tr>\n",
       "    <tr>\n",
       "      <th>1</th>\n",
       "      <td>0.278419</td>\n",
       "      <td>-0.016411</td>\n",
       "      <td>-0.123520</td>\n",
       "      <td>-0.998245</td>\n",
       "      <td>-0.975300</td>\n",
       "      <td>-0.960322</td>\n",
       "      <td>-0.998807</td>\n",
       "      <td>-0.974914</td>\n",
       "      <td>-0.957686</td>\n",
       "      <td>-0.943068</td>\n",
       "      <td>...</td>\n",
       "      <td>0.158075</td>\n",
       "      <td>-0.595051</td>\n",
       "      <td>-0.861499</td>\n",
       "      <td>0.053477</td>\n",
       "      <td>-0.007435</td>\n",
       "      <td>-0.732626</td>\n",
       "      <td>0.703511</td>\n",
       "      <td>-0.844788</td>\n",
       "      <td>0.180289</td>\n",
       "      <td>-0.054317</td>\n",
       "    </tr>\n",
       "    <tr>\n",
       "      <th>2</th>\n",
       "      <td>0.279653</td>\n",
       "      <td>-0.019467</td>\n",
       "      <td>-0.113462</td>\n",
       "      <td>-0.995380</td>\n",
       "      <td>-0.967187</td>\n",
       "      <td>-0.978944</td>\n",
       "      <td>-0.996520</td>\n",
       "      <td>-0.963668</td>\n",
       "      <td>-0.977469</td>\n",
       "      <td>-0.938692</td>\n",
       "      <td>...</td>\n",
       "      <td>0.414503</td>\n",
       "      <td>-0.390748</td>\n",
       "      <td>-0.760104</td>\n",
       "      <td>-0.118559</td>\n",
       "      <td>0.177899</td>\n",
       "      <td>0.100699</td>\n",
       "      <td>0.808529</td>\n",
       "      <td>-0.848933</td>\n",
       "      <td>0.180637</td>\n",
       "      <td>-0.049118</td>\n",
       "    </tr>\n",
       "    <tr>\n",
       "      <th>3</th>\n",
       "      <td>0.279174</td>\n",
       "      <td>-0.026201</td>\n",
       "      <td>-0.123283</td>\n",
       "      <td>-0.996091</td>\n",
       "      <td>-0.983403</td>\n",
       "      <td>-0.990675</td>\n",
       "      <td>-0.997099</td>\n",
       "      <td>-0.982750</td>\n",
       "      <td>-0.989302</td>\n",
       "      <td>-0.938692</td>\n",
       "      <td>...</td>\n",
       "      <td>0.404573</td>\n",
       "      <td>-0.117290</td>\n",
       "      <td>-0.482845</td>\n",
       "      <td>-0.036788</td>\n",
       "      <td>-0.012892</td>\n",
       "      <td>0.640011</td>\n",
       "      <td>-0.485366</td>\n",
       "      <td>-0.848649</td>\n",
       "      <td>0.181935</td>\n",
       "      <td>-0.047663</td>\n",
       "    </tr>\n",
       "    <tr>\n",
       "      <th>4</th>\n",
       "      <td>0.276629</td>\n",
       "      <td>-0.016570</td>\n",
       "      <td>-0.115362</td>\n",
       "      <td>-0.998139</td>\n",
       "      <td>-0.980817</td>\n",
       "      <td>-0.990482</td>\n",
       "      <td>-0.998321</td>\n",
       "      <td>-0.979672</td>\n",
       "      <td>-0.990441</td>\n",
       "      <td>-0.942469</td>\n",
       "      <td>...</td>\n",
       "      <td>0.087753</td>\n",
       "      <td>-0.351471</td>\n",
       "      <td>-0.699205</td>\n",
       "      <td>0.123320</td>\n",
       "      <td>0.122542</td>\n",
       "      <td>0.693578</td>\n",
       "      <td>-0.615971</td>\n",
       "      <td>-0.847865</td>\n",
       "      <td>0.185151</td>\n",
       "      <td>-0.043892</td>\n",
       "    </tr>\n",
       "  </tbody>\n",
       "</table>\n",
       "<p>5 rows × 561 columns</p>\n",
       "</div>"
      ],
      "text/plain": [
       "   tBodyAcc-mean()-X  tBodyAcc-mean()-Y  tBodyAcc-mean()-Z  tBodyAcc-std()-X  \\\n",
       "0           0.288585          -0.020294          -0.132905         -0.995279   \n",
       "1           0.278419          -0.016411          -0.123520         -0.998245   \n",
       "2           0.279653          -0.019467          -0.113462         -0.995380   \n",
       "3           0.279174          -0.026201          -0.123283         -0.996091   \n",
       "4           0.276629          -0.016570          -0.115362         -0.998139   \n",
       "\n",
       "   tBodyAcc-std()-Y  tBodyAcc-std()-Z  tBodyAcc-mad()-X  tBodyAcc-mad()-Y  \\\n",
       "0         -0.983111         -0.913526         -0.995112         -0.983185   \n",
       "1         -0.975300         -0.960322         -0.998807         -0.974914   \n",
       "2         -0.967187         -0.978944         -0.996520         -0.963668   \n",
       "3         -0.983403         -0.990675         -0.997099         -0.982750   \n",
       "4         -0.980817         -0.990482         -0.998321         -0.979672   \n",
       "\n",
       "   tBodyAcc-mad()-Z  tBodyAcc-max()-X  ...  fBodyBodyGyroJerkMag-meanFreq()  \\\n",
       "0         -0.923527         -0.934724  ...                        -0.074323   \n",
       "1         -0.957686         -0.943068  ...                         0.158075   \n",
       "2         -0.977469         -0.938692  ...                         0.414503   \n",
       "3         -0.989302         -0.938692  ...                         0.404573   \n",
       "4         -0.990441         -0.942469  ...                         0.087753   \n",
       "\n",
       "   fBodyBodyGyroJerkMag-skewness()  fBodyBodyGyroJerkMag-kurtosis()  \\\n",
       "0                        -0.298676                        -0.710304   \n",
       "1                        -0.595051                        -0.861499   \n",
       "2                        -0.390748                        -0.760104   \n",
       "3                        -0.117290                        -0.482845   \n",
       "4                        -0.351471                        -0.699205   \n",
       "\n",
       "   angle(tBodyAccMean,gravity)  angle(tBodyAccJerkMean),gravityMean)  \\\n",
       "0                    -0.112754                              0.030400   \n",
       "1                     0.053477                             -0.007435   \n",
       "2                    -0.118559                              0.177899   \n",
       "3                    -0.036788                             -0.012892   \n",
       "4                     0.123320                              0.122542   \n",
       "\n",
       "   angle(tBodyGyroMean,gravityMean)  angle(tBodyGyroJerkMean,gravityMean)  \\\n",
       "0                         -0.464761                             -0.018446   \n",
       "1                         -0.732626                              0.703511   \n",
       "2                          0.100699                              0.808529   \n",
       "3                          0.640011                             -0.485366   \n",
       "4                          0.693578                             -0.615971   \n",
       "\n",
       "   angle(X,gravityMean)  angle(Y,gravityMean)  angle(Z,gravityMean)  \n",
       "0             -0.841247              0.179941             -0.058627  \n",
       "1             -0.844788              0.180289             -0.054317  \n",
       "2             -0.848933              0.180637             -0.049118  \n",
       "3             -0.848649              0.181935             -0.047663  \n",
       "4             -0.847865              0.185151             -0.043892  \n",
       "\n",
       "[5 rows x 561 columns]"
      ]
     },
     "execution_count": 70,
     "metadata": {},
     "output_type": "execute_result"
    }
   ],
   "source": [
    "X_train.columns = featuer_name\n",
    "X_test.columns = featuer_name\n",
    "X_train.head()"
   ]
  },
  {
   "cell_type": "code",
   "execution_count": 71,
   "metadata": {},
   "outputs": [],
   "source": [
    "y_train_url = 'https://raw.githubusercontent.com/PinkWink/ML_tutorial/master/dataset/HAR_dataset/train/y_train.txt'\n",
    "y_test_url = 'https://raw.githubusercontent.com/PinkWink/ML_tutorial/master/dataset/HAR_dataset/test/y_test.txt'\n",
    "\n",
    "y_train = pd.read_csv(y_train_url, sep='\\s+', header = None, names=['action'])\n",
    "y_test = pd.read_csv(y_test_url, sep='\\s+', header = None, names=['action'])"
   ]
  },
  {
   "cell_type": "code",
   "execution_count": 72,
   "metadata": {},
   "outputs": [
    {
     "data": {
      "text/plain": [
       "((7352, 561), (2947, 561), (7352, 1), (2947, 1))"
      ]
     },
     "execution_count": 72,
     "metadata": {},
     "output_type": "execute_result"
    }
   ],
   "source": [
    "X_train.shape, X_test.shape, y_train.shape, y_test.shape\n",
    "# shape : 머신러닝의 행, 열을 표현"
   ]
  },
  {
   "cell_type": "code",
   "execution_count": 73,
   "metadata": {},
   "outputs": [
    {
     "data": {
      "text/plain": [
       "action\n",
       "6    1407\n",
       "5    1374\n",
       "4    1286\n",
       "1    1226\n",
       "2    1073\n",
       "3     986\n",
       "Name: count, dtype: int64"
      ]
     },
     "execution_count": 73,
     "metadata": {},
     "output_type": "execute_result"
    }
   ],
   "source": [
    "y_train['action'].value_counts()"
   ]
  },
  {
   "cell_type": "markdown",
   "metadata": {},
   "source": [
    "### DecisionTree"
   ]
  },
  {
   "cell_type": "code",
   "execution_count": 86,
   "metadata": {},
   "outputs": [
    {
     "data": {
      "text/plain": [
       "0.8096369189005769"
      ]
     },
     "execution_count": 86,
     "metadata": {},
     "output_type": "execute_result"
    }
   ],
   "source": [
    "from sklearn.tree import DecisionTreeClassifier\n",
    "from sklearn.metrics import accuracy_score\n",
    "\n",
    "dt_clf = DecisionTreeClassifier(max_depth=4, random_state=13)\n",
    "dt_clf.fit(X_train, y_train)\n",
    "pred = dt_clf.predict(X_test)\n",
    "\n",
    "accuracy_score(y_test, pred)"
   ]
  },
  {
   "cell_type": "markdown",
   "metadata": {},
   "source": [
    "### GridSearchCV"
   ]
  },
  {
   "cell_type": "code",
   "execution_count": 87,
   "metadata": {},
   "outputs": [
    {
     "data": {
      "text/html": [
       "<style>#sk-container-id-4 {color: black;}#sk-container-id-4 pre{padding: 0;}#sk-container-id-4 div.sk-toggleable {background-color: white;}#sk-container-id-4 label.sk-toggleable__label {cursor: pointer;display: block;width: 100%;margin-bottom: 0;padding: 0.3em;box-sizing: border-box;text-align: center;}#sk-container-id-4 label.sk-toggleable__label-arrow:before {content: \"▸\";float: left;margin-right: 0.25em;color: #696969;}#sk-container-id-4 label.sk-toggleable__label-arrow:hover:before {color: black;}#sk-container-id-4 div.sk-estimator:hover label.sk-toggleable__label-arrow:before {color: black;}#sk-container-id-4 div.sk-toggleable__content {max-height: 0;max-width: 0;overflow: hidden;text-align: left;background-color: #f0f8ff;}#sk-container-id-4 div.sk-toggleable__content pre {margin: 0.2em;color: black;border-radius: 0.25em;background-color: #f0f8ff;}#sk-container-id-4 input.sk-toggleable__control:checked~div.sk-toggleable__content {max-height: 200px;max-width: 100%;overflow: auto;}#sk-container-id-4 input.sk-toggleable__control:checked~label.sk-toggleable__label-arrow:before {content: \"▾\";}#sk-container-id-4 div.sk-estimator input.sk-toggleable__control:checked~label.sk-toggleable__label {background-color: #d4ebff;}#sk-container-id-4 div.sk-label input.sk-toggleable__control:checked~label.sk-toggleable__label {background-color: #d4ebff;}#sk-container-id-4 input.sk-hidden--visually {border: 0;clip: rect(1px 1px 1px 1px);clip: rect(1px, 1px, 1px, 1px);height: 1px;margin: -1px;overflow: hidden;padding: 0;position: absolute;width: 1px;}#sk-container-id-4 div.sk-estimator {font-family: monospace;background-color: #f0f8ff;border: 1px dotted black;border-radius: 0.25em;box-sizing: border-box;margin-bottom: 0.5em;}#sk-container-id-4 div.sk-estimator:hover {background-color: #d4ebff;}#sk-container-id-4 div.sk-parallel-item::after {content: \"\";width: 100%;border-bottom: 1px solid gray;flex-grow: 1;}#sk-container-id-4 div.sk-label:hover label.sk-toggleable__label {background-color: #d4ebff;}#sk-container-id-4 div.sk-serial::before {content: \"\";position: absolute;border-left: 1px solid gray;box-sizing: border-box;top: 0;bottom: 0;left: 50%;z-index: 0;}#sk-container-id-4 div.sk-serial {display: flex;flex-direction: column;align-items: center;background-color: white;padding-right: 0.2em;padding-left: 0.2em;position: relative;}#sk-container-id-4 div.sk-item {position: relative;z-index: 1;}#sk-container-id-4 div.sk-parallel {display: flex;align-items: stretch;justify-content: center;background-color: white;position: relative;}#sk-container-id-4 div.sk-item::before, #sk-container-id-4 div.sk-parallel-item::before {content: \"\";position: absolute;border-left: 1px solid gray;box-sizing: border-box;top: 0;bottom: 0;left: 50%;z-index: -1;}#sk-container-id-4 div.sk-parallel-item {display: flex;flex-direction: column;z-index: 1;position: relative;background-color: white;}#sk-container-id-4 div.sk-parallel-item:first-child::after {align-self: flex-end;width: 50%;}#sk-container-id-4 div.sk-parallel-item:last-child::after {align-self: flex-start;width: 50%;}#sk-container-id-4 div.sk-parallel-item:only-child::after {width: 0;}#sk-container-id-4 div.sk-dashed-wrapped {border: 1px dashed gray;margin: 0 0.4em 0.5em 0.4em;box-sizing: border-box;padding-bottom: 0.4em;background-color: white;}#sk-container-id-4 div.sk-label label {font-family: monospace;font-weight: bold;display: inline-block;line-height: 1.2em;}#sk-container-id-4 div.sk-label-container {text-align: center;}#sk-container-id-4 div.sk-container {/* jupyter's `normalize.less` sets `[hidden] { display: none; }` but bootstrap.min.css set `[hidden] { display: none !important; }` so we also need the `!important` here to be able to override the default hidden behavior on the sphinx rendered scikit-learn.org. See: https://github.com/scikit-learn/scikit-learn/issues/21755 */display: inline-block !important;position: relative;}#sk-container-id-4 div.sk-text-repr-fallback {display: none;}</style><div id=\"sk-container-id-4\" class=\"sk-top-container\"><div class=\"sk-text-repr-fallback\"><pre>GridSearchCV(cv=5,\n",
       "             estimator=DecisionTreeClassifier(max_depth=4, random_state=13),\n",
       "             param_grid={&#x27;max_depth&#x27;: [6, 8, 10, 12, 16, 20, 24]},\n",
       "             return_train_score=True, scoring=&#x27;accuracy&#x27;)</pre><b>In a Jupyter environment, please rerun this cell to show the HTML representation or trust the notebook. <br />On GitHub, the HTML representation is unable to render, please try loading this page with nbviewer.org.</b></div><div class=\"sk-container\" hidden><div class=\"sk-item sk-dashed-wrapped\"><div class=\"sk-label-container\"><div class=\"sk-label sk-toggleable\"><input class=\"sk-toggleable__control sk-hidden--visually\" id=\"sk-estimator-id-10\" type=\"checkbox\" ><label for=\"sk-estimator-id-10\" class=\"sk-toggleable__label sk-toggleable__label-arrow\">GridSearchCV</label><div class=\"sk-toggleable__content\"><pre>GridSearchCV(cv=5,\n",
       "             estimator=DecisionTreeClassifier(max_depth=4, random_state=13),\n",
       "             param_grid={&#x27;max_depth&#x27;: [6, 8, 10, 12, 16, 20, 24]},\n",
       "             return_train_score=True, scoring=&#x27;accuracy&#x27;)</pre></div></div></div><div class=\"sk-parallel\"><div class=\"sk-parallel-item\"><div class=\"sk-item\"><div class=\"sk-label-container\"><div class=\"sk-label sk-toggleable\"><input class=\"sk-toggleable__control sk-hidden--visually\" id=\"sk-estimator-id-11\" type=\"checkbox\" ><label for=\"sk-estimator-id-11\" class=\"sk-toggleable__label sk-toggleable__label-arrow\">estimator: DecisionTreeClassifier</label><div class=\"sk-toggleable__content\"><pre>DecisionTreeClassifier(max_depth=4, random_state=13)</pre></div></div></div><div class=\"sk-serial\"><div class=\"sk-item\"><div class=\"sk-estimator sk-toggleable\"><input class=\"sk-toggleable__control sk-hidden--visually\" id=\"sk-estimator-id-12\" type=\"checkbox\" ><label for=\"sk-estimator-id-12\" class=\"sk-toggleable__label sk-toggleable__label-arrow\">DecisionTreeClassifier</label><div class=\"sk-toggleable__content\"><pre>DecisionTreeClassifier(max_depth=4, random_state=13)</pre></div></div></div></div></div></div></div></div></div></div>"
      ],
      "text/plain": [
       "GridSearchCV(cv=5,\n",
       "             estimator=DecisionTreeClassifier(max_depth=4, random_state=13),\n",
       "             param_grid={'max_depth': [6, 8, 10, 12, 16, 20, 24]},\n",
       "             return_train_score=True, scoring='accuracy')"
      ]
     },
     "execution_count": 87,
     "metadata": {},
     "output_type": "execute_result"
    }
   ],
   "source": [
    "from sklearn.model_selection import GridSearchCV\n",
    "\n",
    "params = {'max_depth' : [6, 8, 10, 12, 16, 20, 24]}\n",
    "grid_cv = GridSearchCV(estimator=dt_clf, \n",
    "                       param_grid=params, \n",
    "                       scoring='accuracy', # scoring = : 예측 성능을 측정할 평가 방법 설정\n",
    "                       cv = 5, \n",
    "                       return_train_score=True) # return_train_score = False면 cv_results_가 training score 값을 갖고 있지 않음\n",
    "                        # 여기선 True를 주면서 cv_results_에 training score 포함 됨\n",
    "grid_cv.fit(X_train, y_train)"
   ]
  },
  {
   "cell_type": "markdown",
   "metadata": {},
   "source": [
    "### best_score\n",
    "- X_test, y_test가 아닌 X_train, y_train 을 5개(cv=5)로 나누어 교차 검증한 값 중 가장 높은 값 산출"
   ]
  },
  {
   "cell_type": "code",
   "execution_count": 88,
   "metadata": {},
   "outputs": [
    {
     "data": {
      "text/plain": [
       "0.8543335321892183"
      ]
     },
     "execution_count": 88,
     "metadata": {},
     "output_type": "execute_result"
    }
   ],
   "source": [
    "grid_cv.best_score_"
   ]
  },
  {
   "cell_type": "markdown",
   "metadata": {},
   "source": [
    "### best_params\n",
    "- X_test, y_test가 아닌 X_train, y_train 을 5개(cv=5)로 나누어 교차 검증한 파라미터 중 가장 좋은 파라미터"
   ]
  },
  {
   "cell_type": "code",
   "execution_count": 89,
   "metadata": {},
   "outputs": [
    {
     "data": {
      "text/plain": [
       "{'max_depth': 8}"
      ]
     },
     "execution_count": 89,
     "metadata": {},
     "output_type": "execute_result"
    }
   ],
   "source": [
    "grid_cv.best_params_"
   ]
  },
  {
   "cell_type": "code",
   "execution_count": 90,
   "metadata": {},
   "outputs": [
    {
     "data": {
      "text/plain": [
       "{'mean_fit_time': array([3.35745883, 5.15435033, 6.20360646, 5.48495936, 6.17894287,\n",
       "        6.39430509, 6.49144392]),\n",
       " 'std_fit_time': array([0.14505093, 0.21415043, 0.82497557, 0.3180133 , 0.41388346,\n",
       "        0.5408986 , 0.57312427]),\n",
       " 'mean_score_time': array([0.00721855, 0.0079711 , 0.0087256 , 0.00761085, 0.00706301,\n",
       "        0.00676394, 0.00652337]),\n",
       " 'std_score_time': array([0.00035631, 0.00053693, 0.00263151, 0.00141853, 0.00072919,\n",
       "        0.00066805, 0.0004241 ]),\n",
       " 'param_max_depth': masked_array(data=[6, 8, 10, 12, 16, 20, 24],\n",
       "              mask=[False, False, False, False, False, False, False],\n",
       "        fill_value='?',\n",
       "             dtype=object),\n",
       " 'params': [{'max_depth': 6},\n",
       "  {'max_depth': 8},\n",
       "  {'max_depth': 10},\n",
       "  {'max_depth': 12},\n",
       "  {'max_depth': 16},\n",
       "  {'max_depth': 20},\n",
       "  {'max_depth': 24}],\n",
       " 'split0_test_score': array([0.81509177, 0.82324949, 0.81781101, 0.79401768, 0.79469748,\n",
       "        0.8028552 , 0.80013596]),\n",
       " 'split1_test_score': array([0.86811693, 0.82528892, 0.81373215, 0.81237254, 0.81237254,\n",
       "        0.81237254, 0.81237254]),\n",
       " 'split2_test_score': array([0.79931973, 0.8462585 , 0.82993197, 0.83877551, 0.83741497,\n",
       "        0.83537415, 0.83537415]),\n",
       " 'split3_test_score': array([0.86462585, 0.87278912, 0.8829932 , 0.87959184, 0.87959184,\n",
       "        0.87687075, 0.87687075]),\n",
       " 'split4_test_score': array([0.87006803, 0.90408163, 0.89115646, 0.88503401, 0.88571429,\n",
       "        0.88435374, 0.88435374]),\n",
       " 'mean_test_score': array([0.84344446, 0.85433353, 0.84712496, 0.84195831, 0.84195822,\n",
       "        0.84236528, 0.84182143]),\n",
       " 'std_test_score': array([0.03005682, 0.0306284 , 0.03315204, 0.03593202, 0.03594555,\n",
       "        0.03305494, 0.03371627]),\n",
       " 'rank_test_score': array([3, 1, 2, 5, 6, 4, 7]),\n",
       " 'split0_train_score': array([0.96327155, 0.98588675, 0.99234824, 0.99557898, 0.99897977,\n",
       "        0.99982996, 1.        ]),\n",
       " 'split1_train_score': array([0.939126  , 0.98537664, 0.99591906, 0.99863969, 1.        ,\n",
       "        1.        , 1.        ]),\n",
       " 'split2_train_score': array([0.94593676, 0.98452907, 0.99438966, 0.99778987, 0.99982999,\n",
       "        1.        , 1.        ]),\n",
       " 'split3_train_score': array([0.93182591, 0.97755865, 0.99268956, 0.99778987, 0.99965998,\n",
       "        1.        , 1.        ]),\n",
       " 'split4_train_score': array([0.94423665, 0.98010881, 0.99149949, 0.99625978, 0.99982999,\n",
       "        1.        , 1.        ]),\n",
       " 'mean_train_score': array([0.94487937, 0.98269198, 0.9933692 , 0.99721164, 0.99965994,\n",
       "        0.99996599, 1.        ]),\n",
       " 'std_train_score': array([1.04239880e-02, 3.28063085e-03, 1.58387007e-03, 1.12068074e-03,\n",
       "        3.56682557e-04, 6.80156436e-05, 0.00000000e+00])}"
      ]
     },
     "execution_count": 90,
     "metadata": {},
     "output_type": "execute_result"
    }
   ],
   "source": [
    "grid_cv.cv_results_"
   ]
  },
  {
   "cell_type": "markdown",
   "metadata": {},
   "source": [
    "### max_depth 별로 표로 성능 정리\n",
    "- test와 teain의 차이가 보인다 -> train의 값이 높다 -> 과적합 의심"
   ]
  },
  {
   "cell_type": "code",
   "execution_count": 91,
   "metadata": {},
   "outputs": [
    {
     "data": {
      "text/plain": [
       "Index(['mean_fit_time', 'std_fit_time', 'mean_score_time', 'std_score_time',\n",
       "       'param_max_depth', 'params', 'split0_test_score', 'split1_test_score',\n",
       "       'split2_test_score', 'split3_test_score', 'split4_test_score',\n",
       "       'mean_test_score', 'std_test_score', 'rank_test_score',\n",
       "       'split0_train_score', 'split1_train_score', 'split2_train_score',\n",
       "       'split3_train_score', 'split4_train_score', 'mean_train_score',\n",
       "       'std_train_score'],\n",
       "      dtype='object')"
      ]
     },
     "execution_count": 91,
     "metadata": {},
     "output_type": "execute_result"
    }
   ],
   "source": [
    "cv_results_df = pd.DataFrame(grid_cv.cv_results_)\n",
    "cv_results_df.columns"
   ]
  },
  {
   "cell_type": "code",
   "execution_count": 92,
   "metadata": {},
   "outputs": [
    {
     "data": {
      "text/html": [
       "<div>\n",
       "<style scoped>\n",
       "    .dataframe tbody tr th:only-of-type {\n",
       "        vertical-align: middle;\n",
       "    }\n",
       "\n",
       "    .dataframe tbody tr th {\n",
       "        vertical-align: top;\n",
       "    }\n",
       "\n",
       "    .dataframe thead th {\n",
       "        text-align: right;\n",
       "    }\n",
       "</style>\n",
       "<table border=\"1\" class=\"dataframe\">\n",
       "  <thead>\n",
       "    <tr style=\"text-align: right;\">\n",
       "      <th></th>\n",
       "      <th>param_max_depth</th>\n",
       "      <th>mean_test_score</th>\n",
       "      <th>mean_train_score</th>\n",
       "    </tr>\n",
       "  </thead>\n",
       "  <tbody>\n",
       "    <tr>\n",
       "      <th>0</th>\n",
       "      <td>6</td>\n",
       "      <td>0.843444</td>\n",
       "      <td>0.944879</td>\n",
       "    </tr>\n",
       "    <tr>\n",
       "      <th>1</th>\n",
       "      <td>8</td>\n",
       "      <td>0.854334</td>\n",
       "      <td>0.982692</td>\n",
       "    </tr>\n",
       "    <tr>\n",
       "      <th>2</th>\n",
       "      <td>10</td>\n",
       "      <td>0.847125</td>\n",
       "      <td>0.993369</td>\n",
       "    </tr>\n",
       "    <tr>\n",
       "      <th>3</th>\n",
       "      <td>12</td>\n",
       "      <td>0.841958</td>\n",
       "      <td>0.997212</td>\n",
       "    </tr>\n",
       "    <tr>\n",
       "      <th>4</th>\n",
       "      <td>16</td>\n",
       "      <td>0.841958</td>\n",
       "      <td>0.999660</td>\n",
       "    </tr>\n",
       "    <tr>\n",
       "      <th>5</th>\n",
       "      <td>20</td>\n",
       "      <td>0.842365</td>\n",
       "      <td>0.999966</td>\n",
       "    </tr>\n",
       "    <tr>\n",
       "      <th>6</th>\n",
       "      <td>24</td>\n",
       "      <td>0.841821</td>\n",
       "      <td>1.000000</td>\n",
       "    </tr>\n",
       "  </tbody>\n",
       "</table>\n",
       "</div>"
      ],
      "text/plain": [
       "  param_max_depth  mean_test_score  mean_train_score\n",
       "0               6         0.843444          0.944879\n",
       "1               8         0.854334          0.982692\n",
       "2              10         0.847125          0.993369\n",
       "3              12         0.841958          0.997212\n",
       "4              16         0.841958          0.999660\n",
       "5              20         0.842365          0.999966\n",
       "6              24         0.841821          1.000000"
      ]
     },
     "execution_count": 92,
     "metadata": {},
     "output_type": "execute_result"
    }
   ],
   "source": [
    "cv_results_df[['param_max_depth', 'mean_test_score', 'mean_train_score']]\n",
    "# param_max_depth : 검증 시 설정한 max_depth\n",
    "\n",
    "# mean_test_score : param_max_depth 설정 후 cv= 의 갯수에 따른 validation set에서 구한 score를 평균한 것 \n",
    "# ex)cv=5 일때 5개 validation set에서 구한 score를 평균한 것\n",
    "\n",
    "# mean_train_score : param_max_depth 설정 후 cv= 의 갯수에 따른 train set에서 구한 score를 평균한 것, \n",
    "# ex)  cv=5 일때 5개 train set에서 구한 score를 평균한 것"
   ]
  },
  {
   "cell_type": "markdown",
   "metadata": {},
   "source": [
    "### DecisionTree 실제 test 데이터에서의 결과\n",
    "- 가장 좋은 환경 : max_depth = 8 accuracy = 0.8707159823549372 "
   ]
  },
  {
   "cell_type": "code",
   "execution_count": 97,
   "metadata": {},
   "outputs": [
    {
     "data": {
      "text/plain": [
       "0.8734306073973532"
      ]
     },
     "execution_count": 97,
     "metadata": {},
     "output_type": "execute_result"
    }
   ],
   "source": [
    "best_dt_clf = grid_cv.best_estimator_\n",
    "pred_ex = best_dt_clf.predict(X_test)\n",
    "\n",
    "accuracy_score(y_test, pred_ex)\n"
   ]
  },
  {
   "cell_type": "code",
   "execution_count": 94,
   "metadata": {},
   "outputs": [
    {
     "name": "stdout",
     "output_type": "stream",
     "text": [
      "max_depth = 6 accuracy = 0.8557855446216491\n",
      "max_depth = 8 accuracy = 0.8707159823549372\n",
      "max_depth = 10 accuracy = 0.8673227010519172\n",
      "max_depth = 12 accuracy = 0.8646080760095012\n",
      "max_depth = 16 accuracy = 0.8574821852731591\n",
      "max_depth = 20 accuracy = 0.8547675602307431\n",
      "max_depth = 24 accuracy = 0.8547675602307431\n"
     ]
    }
   ],
   "source": [
    "max_depth = [6, 8, 10, 12, 16, 20, 24]\n",
    "\n",
    "for depth in max_depth:\n",
    "    dt_clf = DecisionTreeClassifier(max_depth=depth, random_state=156)\n",
    "    dt_clf.fit(X_train, y_train)\n",
    "\n",
    "    pred = dt_clf.predict(X_test)\n",
    "    accuracy = accuracy_score(y_test, pred)\n",
    "\n",
    "    print('max_depth =', depth, 'accuracy =', accuracy)"
   ]
  },
  {
   "cell_type": "markdown",
   "metadata": {},
   "source": [
    "### RandomForest 적용\n",
    "- max_depth : DecisionTree의 가지의 수\n",
    "- n_estimators : 사용한 DecisionTree 수\n",
    "- min_samples_leaf : max_depth가 한계치에 오지 않았지만 분할해서 leaf가 될 수 있는 최소 샘플수를 지정하는 것\n",
    "- min_samples_split : leaf에서 가지로 분할 할 수 있는 샘플수를 지정하는 것"
   ]
  },
  {
   "cell_type": "code",
   "execution_count": 98,
   "metadata": {},
   "outputs": [
    {
     "name": "stderr",
     "output_type": "stream",
     "text": [
      "c:\\Users\\user\\miniconda3\\envs\\ds_study\\lib\\site-packages\\sklearn\\base.py:1151: DataConversionWarning: A column-vector y was passed when a 1d array was expected. Please change the shape of y to (n_samples,), for example using ravel().\n",
      "  return fit_method(estimator, *args, **kwargs)\n"
     ]
    },
    {
     "data": {
      "text/html": [
       "<style>#sk-container-id-6 {color: black;}#sk-container-id-6 pre{padding: 0;}#sk-container-id-6 div.sk-toggleable {background-color: white;}#sk-container-id-6 label.sk-toggleable__label {cursor: pointer;display: block;width: 100%;margin-bottom: 0;padding: 0.3em;box-sizing: border-box;text-align: center;}#sk-container-id-6 label.sk-toggleable__label-arrow:before {content: \"▸\";float: left;margin-right: 0.25em;color: #696969;}#sk-container-id-6 label.sk-toggleable__label-arrow:hover:before {color: black;}#sk-container-id-6 div.sk-estimator:hover label.sk-toggleable__label-arrow:before {color: black;}#sk-container-id-6 div.sk-toggleable__content {max-height: 0;max-width: 0;overflow: hidden;text-align: left;background-color: #f0f8ff;}#sk-container-id-6 div.sk-toggleable__content pre {margin: 0.2em;color: black;border-radius: 0.25em;background-color: #f0f8ff;}#sk-container-id-6 input.sk-toggleable__control:checked~div.sk-toggleable__content {max-height: 200px;max-width: 100%;overflow: auto;}#sk-container-id-6 input.sk-toggleable__control:checked~label.sk-toggleable__label-arrow:before {content: \"▾\";}#sk-container-id-6 div.sk-estimator input.sk-toggleable__control:checked~label.sk-toggleable__label {background-color: #d4ebff;}#sk-container-id-6 div.sk-label input.sk-toggleable__control:checked~label.sk-toggleable__label {background-color: #d4ebff;}#sk-container-id-6 input.sk-hidden--visually {border: 0;clip: rect(1px 1px 1px 1px);clip: rect(1px, 1px, 1px, 1px);height: 1px;margin: -1px;overflow: hidden;padding: 0;position: absolute;width: 1px;}#sk-container-id-6 div.sk-estimator {font-family: monospace;background-color: #f0f8ff;border: 1px dotted black;border-radius: 0.25em;box-sizing: border-box;margin-bottom: 0.5em;}#sk-container-id-6 div.sk-estimator:hover {background-color: #d4ebff;}#sk-container-id-6 div.sk-parallel-item::after {content: \"\";width: 100%;border-bottom: 1px solid gray;flex-grow: 1;}#sk-container-id-6 div.sk-label:hover label.sk-toggleable__label {background-color: #d4ebff;}#sk-container-id-6 div.sk-serial::before {content: \"\";position: absolute;border-left: 1px solid gray;box-sizing: border-box;top: 0;bottom: 0;left: 50%;z-index: 0;}#sk-container-id-6 div.sk-serial {display: flex;flex-direction: column;align-items: center;background-color: white;padding-right: 0.2em;padding-left: 0.2em;position: relative;}#sk-container-id-6 div.sk-item {position: relative;z-index: 1;}#sk-container-id-6 div.sk-parallel {display: flex;align-items: stretch;justify-content: center;background-color: white;position: relative;}#sk-container-id-6 div.sk-item::before, #sk-container-id-6 div.sk-parallel-item::before {content: \"\";position: absolute;border-left: 1px solid gray;box-sizing: border-box;top: 0;bottom: 0;left: 50%;z-index: -1;}#sk-container-id-6 div.sk-parallel-item {display: flex;flex-direction: column;z-index: 1;position: relative;background-color: white;}#sk-container-id-6 div.sk-parallel-item:first-child::after {align-self: flex-end;width: 50%;}#sk-container-id-6 div.sk-parallel-item:last-child::after {align-self: flex-start;width: 50%;}#sk-container-id-6 div.sk-parallel-item:only-child::after {width: 0;}#sk-container-id-6 div.sk-dashed-wrapped {border: 1px dashed gray;margin: 0 0.4em 0.5em 0.4em;box-sizing: border-box;padding-bottom: 0.4em;background-color: white;}#sk-container-id-6 div.sk-label label {font-family: monospace;font-weight: bold;display: inline-block;line-height: 1.2em;}#sk-container-id-6 div.sk-label-container {text-align: center;}#sk-container-id-6 div.sk-container {/* jupyter's `normalize.less` sets `[hidden] { display: none; }` but bootstrap.min.css set `[hidden] { display: none !important; }` so we also need the `!important` here to be able to override the default hidden behavior on the sphinx rendered scikit-learn.org. See: https://github.com/scikit-learn/scikit-learn/issues/21755 */display: inline-block !important;position: relative;}#sk-container-id-6 div.sk-text-repr-fallback {display: none;}</style><div id=\"sk-container-id-6\" class=\"sk-top-container\"><div class=\"sk-text-repr-fallback\"><pre>GridSearchCV(cv=2, estimator=RandomForestClassifier(n_jobs=-1, random_state=13),\n",
       "             n_jobs=-1,\n",
       "             param_grid={&#x27;max_depth&#x27;: [6, 8, 10], &#x27;min_samples_leaf&#x27;: [8, 12],\n",
       "                         &#x27;min_samples_split&#x27;: [8, 12],\n",
       "                         &#x27;n_estimators&#x27;: [50, 100, 200]})</pre><b>In a Jupyter environment, please rerun this cell to show the HTML representation or trust the notebook. <br />On GitHub, the HTML representation is unable to render, please try loading this page with nbviewer.org.</b></div><div class=\"sk-container\" hidden><div class=\"sk-item sk-dashed-wrapped\"><div class=\"sk-label-container\"><div class=\"sk-label sk-toggleable\"><input class=\"sk-toggleable__control sk-hidden--visually\" id=\"sk-estimator-id-14\" type=\"checkbox\" ><label for=\"sk-estimator-id-14\" class=\"sk-toggleable__label sk-toggleable__label-arrow\">GridSearchCV</label><div class=\"sk-toggleable__content\"><pre>GridSearchCV(cv=2, estimator=RandomForestClassifier(n_jobs=-1, random_state=13),\n",
       "             n_jobs=-1,\n",
       "             param_grid={&#x27;max_depth&#x27;: [6, 8, 10], &#x27;min_samples_leaf&#x27;: [8, 12],\n",
       "                         &#x27;min_samples_split&#x27;: [8, 12],\n",
       "                         &#x27;n_estimators&#x27;: [50, 100, 200]})</pre></div></div></div><div class=\"sk-parallel\"><div class=\"sk-parallel-item\"><div class=\"sk-item\"><div class=\"sk-label-container\"><div class=\"sk-label sk-toggleable\"><input class=\"sk-toggleable__control sk-hidden--visually\" id=\"sk-estimator-id-15\" type=\"checkbox\" ><label for=\"sk-estimator-id-15\" class=\"sk-toggleable__label sk-toggleable__label-arrow\">estimator: RandomForestClassifier</label><div class=\"sk-toggleable__content\"><pre>RandomForestClassifier(n_jobs=-1, random_state=13)</pre></div></div></div><div class=\"sk-serial\"><div class=\"sk-item\"><div class=\"sk-estimator sk-toggleable\"><input class=\"sk-toggleable__control sk-hidden--visually\" id=\"sk-estimator-id-16\" type=\"checkbox\" ><label for=\"sk-estimator-id-16\" class=\"sk-toggleable__label sk-toggleable__label-arrow\">RandomForestClassifier</label><div class=\"sk-toggleable__content\"><pre>RandomForestClassifier(n_jobs=-1, random_state=13)</pre></div></div></div></div></div></div></div></div></div></div>"
      ],
      "text/plain": [
       "GridSearchCV(cv=2, estimator=RandomForestClassifier(n_jobs=-1, random_state=13),\n",
       "             n_jobs=-1,\n",
       "             param_grid={'max_depth': [6, 8, 10], 'min_samples_leaf': [8, 12],\n",
       "                         'min_samples_split': [8, 12],\n",
       "                         'n_estimators': [50, 100, 200]})"
      ]
     },
     "execution_count": 98,
     "metadata": {},
     "output_type": "execute_result"
    }
   ],
   "source": [
    "from sklearn.model_selection import GridSearchCV\n",
    "from sklearn.ensemble import RandomForestClassifier\n",
    "\n",
    "params = {\n",
    "    'max_depth' : [6, 8, 10],\n",
    "    'n_estimators' : [50, 100, 200],\n",
    "    'min_samples_leaf' : [8, 12],\n",
    "    'min_samples_split' : [8, 12]\n",
    "}\n",
    "\n",
    "rf_clf = RandomForestClassifier(random_state=13, n_jobs=-1)\n",
    "# n_jobs : 학습 시 사용할 CPU의 코어 개수, -1은 CPU의 코어 전부 사용\n",
    "grid_cv = GridSearchCV(estimator=rf_clf, param_grid=params, cv=2, n_jobs=-1)\n",
    "grid_cv.fit(X_train, y_train)"
   ]
  },
  {
   "cell_type": "code",
   "execution_count": 99,
   "metadata": {},
   "outputs": [
    {
     "data": {
      "text/plain": [
       "Index(['mean_fit_time', 'std_fit_time', 'mean_score_time', 'std_score_time',\n",
       "       'param_max_depth', 'param_min_samples_leaf', 'param_min_samples_split',\n",
       "       'param_n_estimators', 'params', 'split0_test_score',\n",
       "       'split1_test_score', 'mean_test_score', 'std_test_score',\n",
       "       'rank_test_score'],\n",
       "      dtype='object')"
      ]
     },
     "execution_count": 99,
     "metadata": {},
     "output_type": "execute_result"
    }
   ],
   "source": [
    "cv_results_df = pd.DataFrame(grid_cv.cv_results_)\n",
    "cv_results_df.columns"
   ]
  },
  {
   "cell_type": "markdown",
   "metadata": {},
   "source": [
    "### 표로 확인"
   ]
  },
  {
   "cell_type": "code",
   "execution_count": 100,
   "metadata": {},
   "outputs": [
    {
     "data": {
      "text/html": [
       "<div>\n",
       "<style scoped>\n",
       "    .dataframe tbody tr th:only-of-type {\n",
       "        vertical-align: middle;\n",
       "    }\n",
       "\n",
       "    .dataframe tbody tr th {\n",
       "        vertical-align: top;\n",
       "    }\n",
       "\n",
       "    .dataframe thead th {\n",
       "        text-align: right;\n",
       "    }\n",
       "</style>\n",
       "<table border=\"1\" class=\"dataframe\">\n",
       "  <thead>\n",
       "    <tr style=\"text-align: right;\">\n",
       "      <th></th>\n",
       "      <th>rank_test_score</th>\n",
       "      <th>mean_test_score</th>\n",
       "      <th>param_n_estimators</th>\n",
       "      <th>param_max_depth</th>\n",
       "    </tr>\n",
       "  </thead>\n",
       "  <tbody>\n",
       "    <tr>\n",
       "      <th>28</th>\n",
       "      <td>1</td>\n",
       "      <td>0.915125</td>\n",
       "      <td>100</td>\n",
       "      <td>10</td>\n",
       "    </tr>\n",
       "    <tr>\n",
       "      <th>25</th>\n",
       "      <td>1</td>\n",
       "      <td>0.915125</td>\n",
       "      <td>100</td>\n",
       "      <td>10</td>\n",
       "    </tr>\n",
       "    <tr>\n",
       "      <th>23</th>\n",
       "      <td>3</td>\n",
       "      <td>0.912813</td>\n",
       "      <td>200</td>\n",
       "      <td>8</td>\n",
       "    </tr>\n",
       "    <tr>\n",
       "      <th>20</th>\n",
       "      <td>3</td>\n",
       "      <td>0.912813</td>\n",
       "      <td>200</td>\n",
       "      <td>8</td>\n",
       "    </tr>\n",
       "    <tr>\n",
       "      <th>35</th>\n",
       "      <td>5</td>\n",
       "      <td>0.912541</td>\n",
       "      <td>200</td>\n",
       "      <td>10</td>\n",
       "    </tr>\n",
       "  </tbody>\n",
       "</table>\n",
       "</div>"
      ],
      "text/plain": [
       "    rank_test_score  mean_test_score param_n_estimators param_max_depth\n",
       "28                1         0.915125                100              10\n",
       "25                1         0.915125                100              10\n",
       "23                3         0.912813                200               8\n",
       "20                3         0.912813                200               8\n",
       "35                5         0.912541                200              10"
      ]
     },
     "execution_count": 100,
     "metadata": {},
     "output_type": "execute_result"
    }
   ],
   "source": [
    "target_col = ['rank_test_score', 'mean_test_score', 'param_n_estimators', 'param_max_depth']\n",
    "cv_results_df[target_col].sort_values('rank_test_score', ascending=True).head()"
   ]
  },
  {
   "cell_type": "markdown",
   "metadata": {},
   "source": [
    "### best 모델 확인"
   ]
  },
  {
   "cell_type": "code",
   "execution_count": 101,
   "metadata": {},
   "outputs": [
    {
     "data": {
      "text/plain": [
       "{'max_depth': 10,\n",
       " 'min_samples_leaf': 8,\n",
       " 'min_samples_split': 8,\n",
       " 'n_estimators': 100}"
      ]
     },
     "execution_count": 101,
     "metadata": {},
     "output_type": "execute_result"
    }
   ],
   "source": [
    "grid_cv.best_params_"
   ]
  },
  {
   "cell_type": "code",
   "execution_count": 102,
   "metadata": {},
   "outputs": [
    {
     "data": {
      "text/plain": [
       "0.9151251360174102"
      ]
     },
     "execution_count": 102,
     "metadata": {},
     "output_type": "execute_result"
    }
   ],
   "source": [
    "grid_cv.best_score_"
   ]
  },
  {
   "cell_type": "markdown",
   "metadata": {},
   "source": [
    "### test 데이터 적용"
   ]
  },
  {
   "cell_type": "code",
   "execution_count": 103,
   "metadata": {},
   "outputs": [
    {
     "name": "stderr",
     "output_type": "stream",
     "text": [
      "c:\\Users\\user\\miniconda3\\envs\\ds_study\\lib\\site-packages\\sklearn\\base.py:1151: DataConversionWarning: A column-vector y was passed when a 1d array was expected. Please change the shape of y to (n_samples,), for example using ravel().\n",
      "  return fit_method(estimator, *args, **kwargs)\n"
     ]
    },
    {
     "data": {
      "text/plain": [
       "0.9205972175093315"
      ]
     },
     "execution_count": 103,
     "metadata": {},
     "output_type": "execute_result"
    }
   ],
   "source": [
    "rf_clf_best = grid_cv.best_estimator_\n",
    "rf_clf_best.fit(X_train, y_train)\n",
    "\n",
    "pred1 = rf_clf_best.predict(X_test)\n",
    "\n",
    "accuracy_score(y_test, pred1)"
   ]
  },
  {
   "cell_type": "markdown",
   "metadata": {},
   "source": [
    "### 중요 특성 확인"
   ]
  },
  {
   "cell_type": "code",
   "execution_count": 104,
   "metadata": {},
   "outputs": [
    {
     "data": {
      "text/plain": [
       "array([9.63570543e-05, 2.16715797e-04, 5.81975113e-05, 7.84266934e-03,\n",
       "       2.51857403e-04, 3.07774386e-04, 4.79591810e-03, 4.09964695e-04,\n",
       "       2.64005967e-04, 1.19698243e-02, 3.94764000e-05, 2.67806154e-04,\n",
       "       2.07328000e-04, 9.88123061e-05, 1.40002321e-04, 9.16704113e-04,\n",
       "       2.73999937e-03, 2.82976871e-04, 7.27134961e-04, 1.76970389e-03,\n",
       "       3.45707764e-04, 1.36433644e-04, 1.23752152e-03, 1.57683401e-04,\n",
       "       1.08862142e-04, 3.21316110e-04, 4.56947758e-05, 4.78143898e-05,\n",
       "       7.90350892e-05, 5.10934027e-05, 5.07171302e-05, 7.02169848e-05,\n",
       "       4.43780078e-05, 1.66771180e-04, 2.66769490e-05, 9.75250912e-06,\n",
       "       1.04785140e-04, 4.25392011e-03, 7.78965780e-04, 5.38515789e-03,\n",
       "       2.95128998e-02, 2.60520310e-02, 1.56883317e-02, 1.60383984e-03,\n",
       "       6.74589552e-04, 5.46801242e-04, 1.67349902e-03, 5.74077616e-04,\n",
       "       2.40162269e-04, 2.76616100e-02, 3.25178134e-02, 3.96718070e-03,\n",
       "       2.77748342e-02, 2.30372983e-02, 8.84155484e-03, 4.06675092e-03,\n",
       "       3.13085642e-02, 1.86779827e-02, 8.27528010e-03, 1.45720203e-03,\n",
       "       5.85654277e-04, 1.48539626e-04, 1.57851952e-03, 7.42196496e-03,\n",
       "       3.56166628e-04, 6.14581012e-03, 4.61245978e-03, 5.61592844e-03,\n",
       "       4.38939847e-03, 1.10346866e-02, 5.81734354e-03, 4.01289934e-03,\n",
       "       5.41629165e-03, 1.12571091e-02, 7.80585737e-03, 8.87942474e-03,\n",
       "       5.47371016e-03, 1.18559488e-03, 4.72889027e-04, 7.42701138e-04,\n",
       "       6.11628775e-05, 2.60432977e-05, 4.24416840e-05, 8.91046154e-03,\n",
       "       6.75544544e-03, 2.55200373e-03, 2.44593901e-03, 6.96084161e-03,\n",
       "       3.88868167e-04, 1.23441757e-03, 2.85115215e-04, 3.68401288e-04,\n",
       "       1.79822668e-04, 1.90165371e-04, 1.77005640e-04, 2.42434414e-04,\n",
       "       1.13325343e-02, 4.50123983e-03, 1.09316594e-04, 2.32495205e-03,\n",
       "       4.46370390e-03, 2.30758851e-03, 1.16466769e-02, 4.47966711e-03,\n",
       "       7.45927195e-04, 1.26972339e-04, 6.05828286e-05, 5.81997094e-05,\n",
       "       1.79989213e-05, 5.67732132e-05, 2.70761582e-05, 5.95264536e-05,\n",
       "       1.12354352e-04, 1.40620679e-04, 2.47924437e-05, 1.34316821e-04,\n",
       "       1.16122415e-04, 1.26209651e-03, 2.69856026e-04, 3.09662276e-04,\n",
       "       7.44264930e-04, 1.35288536e-04, 3.65328068e-04, 1.95967571e-03,\n",
       "       3.75003403e-04, 7.18925615e-04, 2.30728042e-03, 3.11583083e-03,\n",
       "       6.15863913e-04, 2.69571222e-03, 1.19041093e-04, 2.21420123e-04,\n",
       "       1.38199334e-03, 1.38036660e-04, 6.06112316e-04, 4.04458920e-04,\n",
       "       1.36426451e-03, 7.67919473e-04, 3.25974016e-04, 3.06472890e-03,\n",
       "       2.77232108e-04, 5.55156103e-04, 1.41072074e-03, 1.68054479e-04,\n",
       "       2.20136305e-04, 7.82006142e-04, 7.37453352e-05, 8.40023201e-05,\n",
       "       9.34020463e-05, 3.76217774e-04, 1.16585337e-04, 6.71493301e-05,\n",
       "       4.93547897e-05, 9.30918379e-05, 1.55688723e-04, 1.32326327e-04,\n",
       "       4.19004628e-04, 3.27305135e-04, 6.99028036e-04, 2.39207239e-03,\n",
       "       9.12610226e-05, 6.03445565e-05, 2.51320878e-04, 1.39606653e-03,\n",
       "       2.15780197e-04, 4.59734463e-03, 1.42124439e-03, 1.22473495e-04,\n",
       "       6.84186384e-03, 7.60085453e-04, 2.24764760e-04, 1.09963792e-04,\n",
       "       8.13526551e-04, 2.01321556e-04, 1.93299410e-04, 4.57637132e-04,\n",
       "       2.44672297e-03, 3.19804604e-04, 3.11850267e-03, 6.18245003e-03,\n",
       "       2.43658518e-03, 4.56922808e-03, 1.02849432e-03, 1.94451687e-04,\n",
       "       2.40754385e-03, 9.37604409e-04, 1.84527030e-04, 1.12522060e-03,\n",
       "       9.58457334e-05, 2.53989725e-04, 7.51918719e-05, 7.64814795e-05,\n",
       "       2.36141496e-04, 3.34029940e-05, 5.00974480e-05, 8.69166047e-05,\n",
       "       1.85514488e-04, 3.77208441e-04, 4.32602255e-04, 4.79484655e-04,\n",
       "       2.48962110e-04, 6.98813131e-03, 3.77673757e-03, 3.21120447e-03,\n",
       "       4.13530398e-05, 5.11135528e-04, 1.62779005e-03, 3.16810635e-04,\n",
       "       1.23227879e-04, 7.36201174e-03, 1.39240918e-03, 7.53393299e-05,\n",
       "       3.02661814e-05, 1.15882525e-03, 1.14506608e-02, 7.82176977e-03,\n",
       "       2.98034928e-03, 3.75266262e-05, 3.64655523e-04, 2.32247697e-03,\n",
       "       1.63163364e-03, 1.94539705e-04, 3.83169721e-03, 1.35720925e-03,\n",
       "       8.59172357e-05, 1.16648876e-05, 6.97145514e-03, 4.70534166e-04,\n",
       "       1.89646468e-03, 1.16917396e-04, 2.24224007e-05, 6.71082228e-03,\n",
       "       2.48628896e-03, 1.52033003e-03, 4.93054917e-03, 3.02932184e-05,\n",
       "       9.68204602e-05, 5.34858759e-05, 9.10345860e-05, 1.97895460e-04,\n",
       "       1.11954881e-04, 9.37223790e-05, 1.24478493e-04, 2.76425116e-04,\n",
       "       2.81391888e-04, 1.92219046e-04, 2.12105039e-04, 2.35145843e-04,\n",
       "       1.58118794e-04, 2.72034301e-04, 6.83144547e-05, 4.57064919e-05,\n",
       "       2.35959207e-03, 2.16384793e-04, 1.64058936e-04, 1.03001619e-04,\n",
       "       7.99249786e-05, 4.59187527e-03, 3.91653756e-04, 5.67478628e-04,\n",
       "       1.92776204e-04, 1.25313974e-04, 1.24550445e-04, 8.20077906e-05,\n",
       "       1.27785814e-04, 3.95999818e-03, 8.02951408e-05, 2.23087356e-04,\n",
       "       4.76988146e-03, 1.37211518e-04, 3.14045348e-04, 1.25581139e-02,\n",
       "       6.62455455e-05, 1.56933009e-04, 2.26749222e-03, 6.43584698e-04,\n",
       "       4.34926583e-04, 2.00512119e-05, 4.38569524e-05, 2.78216781e-05,\n",
       "       1.64271886e-04, 8.16487559e-03, 2.32772329e-04, 2.06333984e-04,\n",
       "       2.81852285e-04, 8.82000006e-05, 1.01787839e-04, 2.24340560e-03,\n",
       "       4.01124617e-05, 4.41610410e-05, 3.31075982e-04, 7.54103426e-05,\n",
       "       6.61623640e-05, 7.94478569e-04, 9.71694276e-04, 1.47528395e-03,\n",
       "       7.91984137e-04, 4.27160540e-04, 1.08895527e-03, 7.17218477e-04,\n",
       "       2.97680546e-04, 2.98773772e-04, 5.34406061e-03, 4.85413890e-04,\n",
       "       1.59323499e-04, 8.89411027e-05, 6.84841454e-05, 7.01533955e-05,\n",
       "       3.26623183e-05, 8.08162961e-05, 8.96750201e-03, 1.93998260e-04,\n",
       "       2.44299582e-04, 9.06029935e-05, 5.66680378e-03, 1.49035503e-04,\n",
       "       2.20459049e-03, 1.25844152e-04, 4.16734618e-05, 9.35131004e-05,\n",
       "       5.22863191e-05, 3.17650254e-05, 5.71521882e-05, 3.36328556e-05,\n",
       "       2.51866070e-04, 6.15081973e-04, 7.51480829e-05, 1.70403576e-05,\n",
       "       3.05982547e-04, 4.58260773e-05, 7.05575549e-04, 2.05616966e-04,\n",
       "       9.71717382e-04, 2.73098807e-04, 1.25454641e-04, 4.18952328e-05,\n",
       "       7.72085597e-06, 5.10298548e-05, 3.06762319e-04, 2.19134859e-04,\n",
       "       3.26084824e-04, 2.90605152e-05, 2.11454585e-04, 2.29479812e-04,\n",
       "       2.32574426e-03, 4.79060980e-04, 6.29398780e-04, 3.45161877e-04,\n",
       "       2.96643725e-03, 7.91602064e-04, 6.72878169e-03, 2.53676819e-04,\n",
       "       6.56339060e-04, 1.10401115e-02, 6.61652797e-05, 2.50385829e-04,\n",
       "       3.82624999e-06, 2.39126273e-05, 2.59544079e-05, 2.59823156e-03,\n",
       "       7.59328944e-03, 6.68012950e-03, 1.91945760e-04, 5.15413613e-05,\n",
       "       4.55874568e-05, 2.27126950e-04, 2.71310066e-05, 4.32267131e-03,\n",
       "       2.32265742e-03, 1.04170663e-03, 1.85232544e-04, 2.10976477e-03,\n",
       "       1.29087125e-04, 7.14122784e-05, 8.16558669e-05, 1.55131279e-04,\n",
       "       8.17641184e-05, 3.99691167e-05, 8.32195067e-05, 8.84432514e-05,\n",
       "       7.99740105e-05, 6.08677491e-03, 2.62297909e-03, 5.92484001e-05,\n",
       "       3.89728100e-05, 7.18652747e-05, 4.78301920e-05, 1.33394794e-04,\n",
       "       1.72687897e-05, 1.64116365e-03, 1.42212044e-04, 1.60743809e-04,\n",
       "       2.56699415e-04, 1.18028467e-02, 2.35282427e-03, 1.50459850e-04,\n",
       "       2.67417256e-04, 8.39799826e-04, 6.72517383e-05, 1.20627468e-04,\n",
       "       5.17299510e-05, 6.55968792e-05, 4.22218017e-05, 2.28813893e-03,\n",
       "       1.52430253e-04, 6.48018193e-05, 1.59117508e-05, 1.13381789e-04,\n",
       "       1.24715517e-04, 5.33116776e-04, 2.98155329e-04, 1.37350034e-03,\n",
       "       3.16313499e-04, 1.48160214e-04, 4.60627009e-05, 1.03961342e-04,\n",
       "       3.00087181e-05, 2.87622410e-04, 1.72960426e-03, 1.99141649e-04,\n",
       "       7.38050192e-05, 4.56307394e-04, 1.95019972e-04, 2.00218776e-03,\n",
       "       2.74627852e-04, 4.93368371e-04, 1.64592328e-03, 3.85684805e-04,\n",
       "       5.28071060e-04, 1.96136521e-03, 2.42134992e-03, 4.39143101e-04,\n",
       "       9.07588439e-04, 6.58929496e-04, 6.08489142e-04, 5.11654450e-05,\n",
       "       2.27151447e-05, 3.32973401e-04, 2.54696139e-04, 1.85715935e-03,\n",
       "       5.66780051e-04, 4.24321073e-04, 1.79512405e-04, 4.85301462e-04,\n",
       "       1.11805406e-04, 1.47619879e-03, 1.79377607e-04, 1.52918575e-04,\n",
       "       4.05979380e-03, 1.38724966e-03, 3.58011597e-03, 2.56034587e-03,\n",
       "       2.81043737e-04, 1.62790506e-04, 2.35266681e-04, 4.53406800e-04,\n",
       "       5.22092243e-04, 8.64839454e-04, 5.14791577e-04, 1.03311636e-03,\n",
       "       2.54064950e-03, 9.84445171e-04, 2.79663691e-04, 1.77874220e-04,\n",
       "       3.90058700e-04, 4.87407147e-04, 3.20559859e-04, 6.56492821e-05,\n",
       "       3.57544058e-03, 3.50573675e-04, 4.98049748e-04, 4.12557354e-04,\n",
       "       3.61508134e-03, 5.17144300e-04, 5.03423185e-04, 2.56118332e-04,\n",
       "       3.94214651e-04, 2.61980629e-04, 5.70525057e-05, 1.15516192e-04,\n",
       "       8.68176772e-05, 3.65881903e-05, 3.10294081e-04, 3.76863512e-04,\n",
       "       2.64955284e-04, 3.18851265e-05, 2.60004941e-03, 4.66889915e-04,\n",
       "       4.06679627e-04, 2.19469395e-04, 3.14676140e-04, 2.58311113e-04,\n",
       "       2.11628563e-04, 1.41325515e-04, 2.68574447e-04, 7.42052451e-05,\n",
       "       2.68917559e-04, 3.81432403e-04, 2.78957743e-04, 1.74175493e-04,\n",
       "       5.48254024e-04, 4.08339576e-05, 6.25713016e-03, 7.25227859e-03,\n",
       "       5.11246008e-03, 5.81433746e-04, 4.88522145e-05, 1.04678140e-02,\n",
       "       9.77964930e-03, 1.12168206e-03, 4.41869700e-04, 9.41995013e-05,\n",
       "       1.30673377e-03, 4.61201075e-05, 3.37560284e-05, 7.61498578e-04,\n",
       "       1.28941927e-03, 8.85640232e-05, 1.11917755e-03, 9.04049853e-06,\n",
       "       9.31104513e-05, 1.10216311e-03, 7.29501707e-05, 2.11663698e-05,\n",
       "       4.21326970e-06, 2.36579910e-05, 4.09340097e-04, 2.05437825e-04,\n",
       "       4.72723727e-05, 1.07930756e-04, 1.24085717e-04, 6.94769948e-05,\n",
       "       3.85214153e-05, 1.46851425e-04, 1.35391500e-04, 1.47802764e-04,\n",
       "       9.88092770e-05, 8.30077430e-04, 2.85858834e-04, 1.71844806e-04,\n",
       "       1.07665372e-04, 1.16023362e-04, 1.99892831e-04, 2.67499935e-04,\n",
       "       1.13098086e-03, 2.13745954e-05, 1.03771450e-04, 4.91595386e-04,\n",
       "       6.34619673e-05, 1.52655645e-04, 1.36333858e-04, 5.66317681e-05,\n",
       "       2.86758656e-04, 1.68729738e-04, 5.71627641e-05, 6.00209883e-05,\n",
       "       2.02977201e-04, 2.70030647e-04, 3.46382092e-02, 2.65530306e-02,\n",
       "       1.28372327e-02])"
      ]
     },
     "execution_count": 104,
     "metadata": {},
     "output_type": "execute_result"
    }
   ],
   "source": [
    "rf_clf_best.feature_importances_"
   ]
  },
  {
   "cell_type": "markdown",
   "metadata": {},
   "source": [
    "### 각 특성들의 중요도 확인 및 시각화\n",
    "- 각 특성들의 중요도가 개별적으로 높지 않다\n",
    "- .feature_importances_ : 모델을 결정하기 위한 중요 feature가 어떻게 나왔는지 각각의 중요도를 보여주는 메써드"
   ]
  },
  {
   "cell_type": "code",
   "execution_count": 105,
   "metadata": {},
   "outputs": [
    {
     "data": {
      "text/plain": [
       "angle(X,gravityMean)               0.034638\n",
       "tGravityAcc-max()-Y                0.032518\n",
       "tGravityAcc-energy()-X             0.031309\n",
       "tGravityAcc-mean()-X               0.029513\n",
       "tGravityAcc-min()-X                0.027775\n",
       "tGravityAcc-max()-X                0.027662\n",
       "angle(Y,gravityMean)               0.026553\n",
       "tGravityAcc-mean()-Y               0.026052\n",
       "tGravityAcc-min()-Y                0.023037\n",
       "tGravityAcc-energy()-Y             0.018678\n",
       "tGravityAcc-mean()-Z               0.015688\n",
       "angle(Z,gravityMean)               0.012837\n",
       "fBodyAcc-mad()-X                   0.012558\n",
       "tBodyAcc-max()-X                   0.011970\n",
       "fBodyAccJerk-bandsEnergy()-1,24    0.011803\n",
       "tBodyAccJerk-entropy()-X           0.011647\n",
       "tGravityAccMag-std()               0.011451\n",
       "tBodyAccJerk-energy()-X            0.011333\n",
       "tGravityAcc-arCoeff()-Z,1          0.011257\n",
       "fBodyAccJerk-max()-X               0.011040\n",
       "dtype: float64"
      ]
     },
     "execution_count": 105,
     "metadata": {},
     "output_type": "execute_result"
    }
   ],
   "source": [
    "best_cols_values = rf_clf_best.feature_importances_\n",
    "best_cols = pd.Series(data = best_cols_values, index=X_train.columns)\n",
    "top20_cols = best_cols.sort_values(ascending=False)[:20]\n",
    "top20_cols"
   ]
  },
  {
   "cell_type": "code",
   "execution_count": 106,
   "metadata": {},
   "outputs": [
    {
     "data": {
      "image/png": "[encoded data removed]",
      "text/plain": [
       "<Figure size 600x600 with 1 Axes>"
      ]
     },
     "metadata": {},
     "output_type": "display_data"
    }
   ],
   "source": [
    "import seaborn as sns\n",
    "\n",
    "plt.figure(figsize=(6, 6))\n",
    "sns.barplot(x = top20_cols, y = top20_cols.index)\n",
    "plt.show()"
   ]
  },
  {
   "cell_type": "markdown",
   "metadata": {},
   "source": [
    "### 주요 20개 특성을 통한 성능 재확인"
   ]
  },
  {
   "cell_type": "code",
   "execution_count": 107,
   "metadata": {},
   "outputs": [
    {
     "data": {
      "text/plain": [
       "Index(['angle(X,gravityMean)', 'tGravityAcc-max()-Y', 'tGravityAcc-energy()-X',\n",
       "       'tGravityAcc-mean()-X', 'tGravityAcc-min()-X', 'tGravityAcc-max()-X',\n",
       "       'angle(Y,gravityMean)', 'tGravityAcc-mean()-Y', 'tGravityAcc-min()-Y',\n",
       "       'tGravityAcc-energy()-Y', 'tGravityAcc-mean()-Z',\n",
       "       'angle(Z,gravityMean)', 'fBodyAcc-mad()-X', 'tBodyAcc-max()-X',\n",
       "       'fBodyAccJerk-bandsEnergy()-1,24', 'tBodyAccJerk-entropy()-X',\n",
       "       'tGravityAccMag-std()', 'tBodyAccJerk-energy()-X',\n",
       "       'tGravityAcc-arCoeff()-Z,1', 'fBodyAccJerk-max()-X'],\n",
       "      dtype='object')"
      ]
     },
     "execution_count": 107,
     "metadata": {},
     "output_type": "execute_result"
    }
   ],
   "source": [
    "top20_cols.index"
   ]
  },
  {
   "cell_type": "code",
   "execution_count": 108,
   "metadata": {},
   "outputs": [
    {
     "data": {
      "text/plain": [
       "array([[5],\n",
       "       [5],\n",
       "       [5],\n",
       "       ...,\n",
       "       [2],\n",
       "       [2],\n",
       "       [2]], dtype=int64)"
      ]
     },
     "execution_count": 108,
     "metadata": {},
     "output_type": "execute_result"
    }
   ],
   "source": [
    "y_train.values"
   ]
  },
  {
   "cell_type": "code",
   "execution_count": 109,
   "metadata": {},
   "outputs": [
    {
     "data": {
      "text/plain": [
       "array([5, 5, 5, ..., 2, 2, 2], dtype=int64)"
      ]
     },
     "execution_count": 109,
     "metadata": {},
     "output_type": "execute_result"
    }
   ],
   "source": [
    "y_train.values.reshape(-1,)"
   ]
  },
  {
   "cell_type": "code",
   "execution_count": 110,
   "metadata": {},
   "outputs": [
    {
     "data": {
      "text/plain": [
       "0.8177807940278249"
      ]
     },
     "execution_count": 110,
     "metadata": {},
     "output_type": "execute_result"
    }
   ],
   "source": [
    "X_train_re = X_train[top20_cols.index]\n",
    "# X_train 중에서 top20_cols 인덱스로 있는 컬럼들을 가져오겠다\n",
    "X_test_re = X_test[top20_cols.index]\n",
    "# X_test 중에서 top20_cols 인덱스로 있는 컬럼들을 가져오겠다\n",
    "\n",
    "rf_clf_best_re = grid_cv.best_estimator_\n",
    "rf_clf_best_re.fit(X_train_re, y_train.values.reshape(-1,))\n",
    "\n",
    "pred1_re = rf_clf_best_re.predict(X_test_re)\n",
    "\n",
    "accuracy_score(y_test, pred1_re)\n"
   ]
  },
  {
   "cell_type": "code",
   "execution_count": null,
   "metadata": {},
   "outputs": [],
   "source": []
  }
 ],
 "metadata": {
  "kernelspec": {
   "display_name": "ds_study",
   "language": "python",
   "name": "python3"
  },
  "language_info": {
   "codemirror_mode": {
    "name": "ipython",
    "version": 3
   },
   "file_extension": ".py",
   "mimetype": "text/x-python",
   "name": "python",
   "nbconvert_exporter": "python",
   "pygments_lexer": "ipython3",
   "version": "3.8.18"
  }
 },
 "nbformat": 4,
 "nbformat_minor": 2
}
